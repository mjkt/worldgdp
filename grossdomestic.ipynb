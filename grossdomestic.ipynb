{
 "cells": [
  {
   "cell_type": "code",
   "execution_count": 1,
   "id": "71a6fbea",
   "metadata": {},
   "outputs": [],
   "source": [
    "import numpy as np\n",
    "import pandas as pd"
   ]
  },
  {
   "cell_type": "code",
   "execution_count": 2,
   "id": "8e3afef2",
   "metadata": {},
   "outputs": [],
   "source": [
    "import chart_studio.plotly as py\n",
    "import plotly.graph_objs as go \n",
    "from plotly.offline import download_plotlyjs, init_notebook_mode, plot, iplot"
   ]
  },
  {
   "cell_type": "code",
   "execution_count": 3,
   "id": "0f39fc79",
   "metadata": {},
   "outputs": [
    {
     "data": {
      "text/html": [
       "        <script type=\"text/javascript\">\n",
       "        window.PlotlyConfig = {MathJaxConfig: 'local'};\n",
       "        if (window.MathJax) {MathJax.Hub.Config({SVG: {font: \"STIX-Web\"}});}\n",
       "        if (typeof require !== 'undefined') {\n",
       "        require.undef(\"plotly\");\n",
       "        requirejs.config({\n",
       "            paths: {\n",
       "                'plotly': ['https://cdn.plot.ly/plotly-latest.min']\n",
       "            }\n",
       "        });\n",
       "        require(['plotly'], function(Plotly) {\n",
       "            window._Plotly = Plotly;\n",
       "        });\n",
       "        }\n",
       "        </script>\n",
       "        "
      ]
     },
     "metadata": {},
     "output_type": "display_data"
    }
   ],
   "source": [
    "init_notebook_mode(connected=True) "
   ]
  },
  {
   "cell_type": "code",
   "execution_count": 4,
   "id": "4edf6566",
   "metadata": {},
   "outputs": [],
   "source": [
    "pf=pd.read_csv(r'C:\\Users\\mjkum\\Downloads\\Countries by GDPnew.csv')"
   ]
  },
  {
   "cell_type": "code",
   "execution_count": 5,
   "id": "9b51dac2",
   "metadata": {},
   "outputs": [],
   "source": [
    "new=pf"
   ]
  },
  {
   "cell_type": "code",
   "execution_count": 6,
   "id": "37cd0b19",
   "metadata": {},
   "outputs": [
    {
     "data": {
      "text/html": [
       "<div>\n",
       "<style scoped>\n",
       "    .dataframe tbody tr th:only-of-type {\n",
       "        vertical-align: middle;\n",
       "    }\n",
       "\n",
       "    .dataframe tbody tr th {\n",
       "        vertical-align: top;\n",
       "    }\n",
       "\n",
       "    .dataframe thead th {\n",
       "        text-align: right;\n",
       "    }\n",
       "</style>\n",
       "<table border=\"1\" class=\"dataframe\">\n",
       "  <thead>\n",
       "    <tr style=\"text-align: right;\">\n",
       "      <th></th>\n",
       "      <th>Country Name</th>\n",
       "      <th>Country Code</th>\n",
       "      <th>Indicator Name</th>\n",
       "      <th>Indicator Code</th>\n",
       "      <th>2006</th>\n",
       "      <th>2007</th>\n",
       "      <th>2008</th>\n",
       "      <th>2009</th>\n",
       "      <th>2010</th>\n",
       "      <th>2011</th>\n",
       "      <th>2012</th>\n",
       "      <th>2013</th>\n",
       "      <th>2014</th>\n",
       "      <th>2015</th>\n",
       "      <th>2016</th>\n",
       "      <th>2017</th>\n",
       "      <th>2018</th>\n",
       "      <th>2019</th>\n",
       "    </tr>\n",
       "  </thead>\n",
       "  <tbody>\n",
       "    <tr>\n",
       "      <th>0</th>\n",
       "      <td>Tuvalu</td>\n",
       "      <td>TUV</td>\n",
       "      <td>GDP (current US$)</td>\n",
       "      <td>NY.GDP.MKTP.CD</td>\n",
       "      <td>2.290286e+07</td>\n",
       "      <td>2.703037e+07</td>\n",
       "      <td>3.029022e+07</td>\n",
       "      <td>2.710108e+07</td>\n",
       "      <td>3.182352e+07</td>\n",
       "      <td>3.871181e+07</td>\n",
       "      <td>3.767177e+07</td>\n",
       "      <td>3.750908e+07</td>\n",
       "      <td>3.729061e+07</td>\n",
       "      <td>3.549207e+07</td>\n",
       "      <td>3.654780e+07</td>\n",
       "      <td>4.061925e+07</td>\n",
       "      <td>4.258816e+07</td>\n",
       "      <td>4.727146e+07</td>\n",
       "    </tr>\n",
       "    <tr>\n",
       "      <th>1</th>\n",
       "      <td>Nauru</td>\n",
       "      <td>NRU</td>\n",
       "      <td>GDP (current US$)</td>\n",
       "      <td>NY.GDP.MKTP.CD</td>\n",
       "      <td>NaN</td>\n",
       "      <td>NaN</td>\n",
       "      <td>NaN</td>\n",
       "      <td>NaN</td>\n",
       "      <td>4.756452e+07</td>\n",
       "      <td>6.605541e+07</td>\n",
       "      <td>9.692720e+07</td>\n",
       "      <td>9.849184e+07</td>\n",
       "      <td>1.046544e+08</td>\n",
       "      <td>8.677927e+07</td>\n",
       "      <td>1.000873e+08</td>\n",
       "      <td>1.095859e+08</td>\n",
       "      <td>1.240214e+08</td>\n",
       "      <td>1.182234e+08</td>\n",
       "    </tr>\n",
       "    <tr>\n",
       "      <th>2</th>\n",
       "      <td>Kiribati</td>\n",
       "      <td>KIR</td>\n",
       "      <td>GDP (current US$)</td>\n",
       "      <td>NY.GDP.MKTP.CD</td>\n",
       "      <td>1.102349e+08</td>\n",
       "      <td>1.326717e+08</td>\n",
       "      <td>1.410426e+08</td>\n",
       "      <td>1.324201e+08</td>\n",
       "      <td>1.561209e+08</td>\n",
       "      <td>1.817050e+08</td>\n",
       "      <td>1.902433e+08</td>\n",
       "      <td>1.851139e+08</td>\n",
       "      <td>1.797034e+08</td>\n",
       "      <td>1.711179e+08</td>\n",
       "      <td>1.783289e+08</td>\n",
       "      <td>1.872762e+08</td>\n",
       "      <td>1.967379e+08</td>\n",
       "      <td>1.946472e+08</td>\n",
       "    </tr>\n",
       "    <tr>\n",
       "      <th>3</th>\n",
       "      <td>Palau</td>\n",
       "      <td>PLW</td>\n",
       "      <td>GDP (current US$)</td>\n",
       "      <td>NY.GDP.MKTP.CD</td>\n",
       "      <td>1.923824e+08</td>\n",
       "      <td>1.988977e+08</td>\n",
       "      <td>1.982839e+08</td>\n",
       "      <td>1.875228e+08</td>\n",
       "      <td>1.859430e+08</td>\n",
       "      <td>1.969111e+08</td>\n",
       "      <td>2.123978e+08</td>\n",
       "      <td>2.211172e+08</td>\n",
       "      <td>2.416698e+08</td>\n",
       "      <td>2.804577e+08</td>\n",
       "      <td>2.950654e+08</td>\n",
       "      <td>2.861068e+08</td>\n",
       "      <td>2.804357e+08</td>\n",
       "      <td>2.683549e+08</td>\n",
       "    </tr>\n",
       "    <tr>\n",
       "      <th>4</th>\n",
       "      <td>Sao Tome and Principe</td>\n",
       "      <td>STP</td>\n",
       "      <td>GDP (current US$)</td>\n",
       "      <td>NY.GDP.MKTP.CD</td>\n",
       "      <td>1.427756e+08</td>\n",
       "      <td>1.491464e+08</td>\n",
       "      <td>1.880212e+08</td>\n",
       "      <td>1.878205e+08</td>\n",
       "      <td>1.966522e+08</td>\n",
       "      <td>2.314887e+08</td>\n",
       "      <td>2.506805e+08</td>\n",
       "      <td>3.005538e+08</td>\n",
       "      <td>3.465279e+08</td>\n",
       "      <td>3.160654e+08</td>\n",
       "      <td>3.454954e+08</td>\n",
       "      <td>3.756146e+08</td>\n",
       "      <td>4.122618e+08</td>\n",
       "      <td>4.186374e+08</td>\n",
       "    </tr>\n",
       "  </tbody>\n",
       "</table>\n",
       "</div>"
      ],
      "text/plain": [
       "            Country Name Country Code     Indicator Name  Indicator Code  \\\n",
       "0                 Tuvalu          TUV  GDP (current US$)  NY.GDP.MKTP.CD   \n",
       "1                  Nauru          NRU  GDP (current US$)  NY.GDP.MKTP.CD   \n",
       "2               Kiribati          KIR  GDP (current US$)  NY.GDP.MKTP.CD   \n",
       "3                  Palau          PLW  GDP (current US$)  NY.GDP.MKTP.CD   \n",
       "4  Sao Tome and Principe          STP  GDP (current US$)  NY.GDP.MKTP.CD   \n",
       "\n",
       "           2006          2007          2008          2009          2010  \\\n",
       "0  2.290286e+07  2.703037e+07  3.029022e+07  2.710108e+07  3.182352e+07   \n",
       "1           NaN           NaN           NaN           NaN  4.756452e+07   \n",
       "2  1.102349e+08  1.326717e+08  1.410426e+08  1.324201e+08  1.561209e+08   \n",
       "3  1.923824e+08  1.988977e+08  1.982839e+08  1.875228e+08  1.859430e+08   \n",
       "4  1.427756e+08  1.491464e+08  1.880212e+08  1.878205e+08  1.966522e+08   \n",
       "\n",
       "           2011          2012          2013          2014          2015  \\\n",
       "0  3.871181e+07  3.767177e+07  3.750908e+07  3.729061e+07  3.549207e+07   \n",
       "1  6.605541e+07  9.692720e+07  9.849184e+07  1.046544e+08  8.677927e+07   \n",
       "2  1.817050e+08  1.902433e+08  1.851139e+08  1.797034e+08  1.711179e+08   \n",
       "3  1.969111e+08  2.123978e+08  2.211172e+08  2.416698e+08  2.804577e+08   \n",
       "4  2.314887e+08  2.506805e+08  3.005538e+08  3.465279e+08  3.160654e+08   \n",
       "\n",
       "           2016          2017          2018          2019  \n",
       "0  3.654780e+07  4.061925e+07  4.258816e+07  4.727146e+07  \n",
       "1  1.000873e+08  1.095859e+08  1.240214e+08  1.182234e+08  \n",
       "2  1.783289e+08  1.872762e+08  1.967379e+08  1.946472e+08  \n",
       "3  2.950654e+08  2.861068e+08  2.804357e+08  2.683549e+08  \n",
       "4  3.454954e+08  3.756146e+08  4.122618e+08  4.186374e+08  "
      ]
     },
     "execution_count": 6,
     "metadata": {},
     "output_type": "execute_result"
    }
   ],
   "source": [
    "new.head()"
   ]
  },
  {
   "cell_type": "code",
   "execution_count": 7,
   "id": "35b3547a",
   "metadata": {},
   "outputs": [],
   "source": [
    "for i in ['2006','2007','2008','2009','2010','2011','2012','2013','2014','2015','2016','2017','2018','2019']:\n",
    "    pf[i]=pf[i]/1000000000"
   ]
  },
  {
   "cell_type": "code",
   "execution_count": 8,
   "id": "0a29e69f",
   "metadata": {},
   "outputs": [
    {
     "data": {
      "text/html": [
       "<div>\n",
       "<style scoped>\n",
       "    .dataframe tbody tr th:only-of-type {\n",
       "        vertical-align: middle;\n",
       "    }\n",
       "\n",
       "    .dataframe tbody tr th {\n",
       "        vertical-align: top;\n",
       "    }\n",
       "\n",
       "    .dataframe thead th {\n",
       "        text-align: right;\n",
       "    }\n",
       "</style>\n",
       "<table border=\"1\" class=\"dataframe\">\n",
       "  <thead>\n",
       "    <tr style=\"text-align: right;\">\n",
       "      <th></th>\n",
       "      <th>Country Name</th>\n",
       "      <th>Country Code</th>\n",
       "      <th>Indicator Name</th>\n",
       "      <th>Indicator Code</th>\n",
       "      <th>2006</th>\n",
       "      <th>2007</th>\n",
       "      <th>2008</th>\n",
       "      <th>2009</th>\n",
       "      <th>2010</th>\n",
       "      <th>2011</th>\n",
       "      <th>2012</th>\n",
       "      <th>2013</th>\n",
       "      <th>2014</th>\n",
       "      <th>2015</th>\n",
       "      <th>2016</th>\n",
       "      <th>2017</th>\n",
       "      <th>2018</th>\n",
       "      <th>2019</th>\n",
       "    </tr>\n",
       "  </thead>\n",
       "  <tbody>\n",
       "    <tr>\n",
       "      <th>0</th>\n",
       "      <td>Tuvalu</td>\n",
       "      <td>TUV</td>\n",
       "      <td>GDP (current US$)</td>\n",
       "      <td>NY.GDP.MKTP.CD</td>\n",
       "      <td>0.022903</td>\n",
       "      <td>0.027030</td>\n",
       "      <td>0.030290</td>\n",
       "      <td>0.027101</td>\n",
       "      <td>0.031824</td>\n",
       "      <td>0.038712</td>\n",
       "      <td>0.037672</td>\n",
       "      <td>0.037509</td>\n",
       "      <td>0.037291</td>\n",
       "      <td>0.035492</td>\n",
       "      <td>0.036548</td>\n",
       "      <td>0.040619</td>\n",
       "      <td>0.042588</td>\n",
       "      <td>0.047271</td>\n",
       "    </tr>\n",
       "    <tr>\n",
       "      <th>1</th>\n",
       "      <td>Nauru</td>\n",
       "      <td>NRU</td>\n",
       "      <td>GDP (current US$)</td>\n",
       "      <td>NY.GDP.MKTP.CD</td>\n",
       "      <td>NaN</td>\n",
       "      <td>NaN</td>\n",
       "      <td>NaN</td>\n",
       "      <td>NaN</td>\n",
       "      <td>0.047565</td>\n",
       "      <td>0.066055</td>\n",
       "      <td>0.096927</td>\n",
       "      <td>0.098492</td>\n",
       "      <td>0.104654</td>\n",
       "      <td>0.086779</td>\n",
       "      <td>0.100087</td>\n",
       "      <td>0.109586</td>\n",
       "      <td>0.124021</td>\n",
       "      <td>0.118223</td>\n",
       "    </tr>\n",
       "    <tr>\n",
       "      <th>2</th>\n",
       "      <td>Kiribati</td>\n",
       "      <td>KIR</td>\n",
       "      <td>GDP (current US$)</td>\n",
       "      <td>NY.GDP.MKTP.CD</td>\n",
       "      <td>0.110235</td>\n",
       "      <td>0.132672</td>\n",
       "      <td>0.141043</td>\n",
       "      <td>0.132420</td>\n",
       "      <td>0.156121</td>\n",
       "      <td>0.181705</td>\n",
       "      <td>0.190243</td>\n",
       "      <td>0.185114</td>\n",
       "      <td>0.179703</td>\n",
       "      <td>0.171118</td>\n",
       "      <td>0.178329</td>\n",
       "      <td>0.187276</td>\n",
       "      <td>0.196738</td>\n",
       "      <td>0.194647</td>\n",
       "    </tr>\n",
       "    <tr>\n",
       "      <th>3</th>\n",
       "      <td>Palau</td>\n",
       "      <td>PLW</td>\n",
       "      <td>GDP (current US$)</td>\n",
       "      <td>NY.GDP.MKTP.CD</td>\n",
       "      <td>0.192382</td>\n",
       "      <td>0.198898</td>\n",
       "      <td>0.198284</td>\n",
       "      <td>0.187523</td>\n",
       "      <td>0.185943</td>\n",
       "      <td>0.196911</td>\n",
       "      <td>0.212398</td>\n",
       "      <td>0.221117</td>\n",
       "      <td>0.241670</td>\n",
       "      <td>0.280458</td>\n",
       "      <td>0.295065</td>\n",
       "      <td>0.286107</td>\n",
       "      <td>0.280436</td>\n",
       "      <td>0.268355</td>\n",
       "    </tr>\n",
       "    <tr>\n",
       "      <th>4</th>\n",
       "      <td>Sao Tome and Principe</td>\n",
       "      <td>STP</td>\n",
       "      <td>GDP (current US$)</td>\n",
       "      <td>NY.GDP.MKTP.CD</td>\n",
       "      <td>0.142776</td>\n",
       "      <td>0.149146</td>\n",
       "      <td>0.188021</td>\n",
       "      <td>0.187820</td>\n",
       "      <td>0.196652</td>\n",
       "      <td>0.231489</td>\n",
       "      <td>0.250680</td>\n",
       "      <td>0.300554</td>\n",
       "      <td>0.346528</td>\n",
       "      <td>0.316065</td>\n",
       "      <td>0.345495</td>\n",
       "      <td>0.375615</td>\n",
       "      <td>0.412262</td>\n",
       "      <td>0.418637</td>\n",
       "    </tr>\n",
       "  </tbody>\n",
       "</table>\n",
       "</div>"
      ],
      "text/plain": [
       "            Country Name Country Code     Indicator Name  Indicator Code  \\\n",
       "0                 Tuvalu          TUV  GDP (current US$)  NY.GDP.MKTP.CD   \n",
       "1                  Nauru          NRU  GDP (current US$)  NY.GDP.MKTP.CD   \n",
       "2               Kiribati          KIR  GDP (current US$)  NY.GDP.MKTP.CD   \n",
       "3                  Palau          PLW  GDP (current US$)  NY.GDP.MKTP.CD   \n",
       "4  Sao Tome and Principe          STP  GDP (current US$)  NY.GDP.MKTP.CD   \n",
       "\n",
       "       2006      2007      2008      2009      2010      2011      2012  \\\n",
       "0  0.022903  0.027030  0.030290  0.027101  0.031824  0.038712  0.037672   \n",
       "1       NaN       NaN       NaN       NaN  0.047565  0.066055  0.096927   \n",
       "2  0.110235  0.132672  0.141043  0.132420  0.156121  0.181705  0.190243   \n",
       "3  0.192382  0.198898  0.198284  0.187523  0.185943  0.196911  0.212398   \n",
       "4  0.142776  0.149146  0.188021  0.187820  0.196652  0.231489  0.250680   \n",
       "\n",
       "       2013      2014      2015      2016      2017      2018      2019  \n",
       "0  0.037509  0.037291  0.035492  0.036548  0.040619  0.042588  0.047271  \n",
       "1  0.098492  0.104654  0.086779  0.100087  0.109586  0.124021  0.118223  \n",
       "2  0.185114  0.179703  0.171118  0.178329  0.187276  0.196738  0.194647  \n",
       "3  0.221117  0.241670  0.280458  0.295065  0.286107  0.280436  0.268355  \n",
       "4  0.300554  0.346528  0.316065  0.345495  0.375615  0.412262  0.418637  "
      ]
     },
     "execution_count": 8,
     "metadata": {},
     "output_type": "execute_result"
    }
   ],
   "source": [
    "pf.head()"
   ]
  },
  {
   "cell_type": "code",
   "execution_count": 60,
   "id": "30e3a127",
   "metadata": {},
   "outputs": [],
   "source": [
    "data=dict(type='choropleth',\n",
    "         locations=pf['Country Code'],\n",
    "         z=np.log10(pf['2019']),\n",
    "         colorscale=[[0, 'rgb(22,200,150)'], [1, 'rgb(210,100,190)']],\n",
    "         text=pf[['Country Name','2019']],\n",
    "         colorbar=dict(len=0.75,\n",
    "                  title='GDP in Billion USD', \n",
    "                  x=0.9,\n",
    "                  tickvals = [0, 0.4, 1.2, 2.4, 3.0, 4],\n",
    "                  ticktext = ['1', '200', '600', '1200', '2500','24000']))"
   ]
  },
  {
   "cell_type": "code",
   "execution_count": 61,
   "id": "6a0c510c",
   "metadata": {},
   "outputs": [],
   "source": [
    "lay=dict(title='World GDP 2019',\n",
    "         \n",
    "        geo=dict(showframe=False,\n",
    "                projection={'type':'natural earth'}))"
   ]
  },
  {
   "cell_type": "code",
   "execution_count": 62,
   "id": "580a6bdf",
   "metadata": {},
   "outputs": [],
   "source": [
    "choro=go.Figure([data],lay)"
   ]
  },
  {
   "cell_type": "code",
   "execution_count": 63,
   "id": "13d2000f",
   "metadata": {
    "scrolled": true
   },
   "outputs": [
    {
     "data": {
      "application/vnd.plotly.v1+json": {
       "config": {
        "linkText": "Export to plot.ly",
        "plotlyServerURL": "https://plot.ly",
        "showLink": false
       },
       "data": [
        {
         "colorbar": {
          "len": 0.75,
          "ticktext": [
           "1",
           "200",
           "600",
           "1200",
           "2500",
           "24000"
          ],
          "tickvals": [
           0,
           0.4,
           1.2,
           2.4,
           3,
           4
          ],
          "title": {
           "text": "GDP in Billion USD"
          },
          "x": 0.9
         },
         "colorscale": [
          [
           0,
           "rgb(22,200,150)"
          ],
          [
           1,
           "rgb(210,100,190)"
          ]
         ],
         "locations": [
          "TUV",
          "NRU",
          "KIR",
          "PLW",
          "STP",
          "TON",
          "DMA",
          "VCT",
          "WSM",
          "VUT",
          "KNA",
          "COM",
          "TCA",
          "GRD",
          "GNB",
          "SLB",
          "ATG",
          "SYC",
          "GMB",
          "BLZ",
          "CPV",
          "TLS",
          "LCA",
          "CAF",
          "LSO",
          "BTN",
          "BDI",
          "LBR",
          "CUW",
          "AND",
          "DJI",
          "SUR",
          "SLE",
          "SWZ",
          "GUY",
          "BRB",
          "TGO",
          "FJI",
          "MNE",
          "MDV",
          "BMU",
          "MRT",
          "MWI",
          "XKX",
          "TJK",
          "KGZ",
          "RWA",
          "GNQ",
          "TCD",
          "MDA",
          "COG",
          "GIN",
          "NAM",
          "NIC",
          "MKD",
          "NER",
          "BRN",
          "BHS",
          "ARM",
          "MNG",
          "MUS",
          "MDG",
          "HTI",
          "BEN",
          "MLT",
          "ALB",
          "MOZ",
          "BFA",
          "JAM",
          "GAB",
          "MLI",
          "GEO",
          "LAO",
          "BWA",
          "AFG",
          "BIH",
          "ZWE",
          "YEM",
          "ZMB",
          "SEN",
          "ISL",
          "TTO",
          "PNG",
          "CYP",
          "HND",
          "SLV",
          "KHM",
          "SDN",
          "NPL",
          "EST",
          "LVA",
          "UGA",
          "PRY",
          "BHR",
          "TUN",
          "CMR",
          "BOL",
          "JOR",
          "AZE",
          "COD",
          "SRB",
          "LBN",
          "LBY",
          "MAC",
          "SVN",
          "LTU",
          "URY",
          "UZB",
          "CIV",
          "HRV",
          "CRI",
          "BLR",
          "TZA",
          "PAN",
          "GHA",
          "BGR",
          "LUX",
          "MMR",
          "OMN",
          "GTM",
          "LKA",
          "AGO",
          "DOM",
          "KEN",
          "ETH",
          "PRI",
          "SVK",
          "ECU",
          "MAR",
          "KWT",
          "UKR",
          "HUN",
          "DZA",
          "QAT",
          "KAZ",
          "NZL",
          "GRC",
          "PER",
          "IRQ",
          "PRT",
          "ROU",
          "CZE",
          "VNM",
          "FIN",
          "PAK",
          "CHL",
          "BGD",
          "EGY",
          "COL",
          "DNK",
          "ZAF",
          "MYS",
          "HKG",
          "SGP",
          "PHL",
          "IRL",
          "ISR",
          "NOR",
          "ARE",
          "AUT",
          "ARG",
          "NGA",
          "SWE",
          "BEL",
          "THA",
          "POL",
          "CHE",
          "TUR",
          "SAU",
          "NLD",
          "IDN",
          "MEX",
          "ESP",
          "AUS",
          "KOR",
          "RUS",
          "CAN",
          "BRA",
          "ITA",
          "FRA",
          "GBR",
          "IND",
          "DEU",
          "JPN",
          "CHN",
          "USA",
          "ABW",
          "ASM",
          "CUB",
          "CYM",
          "ERI",
          "FRO",
          "FSM",
          "GIB",
          "GRL",
          "GUM",
          "IMN",
          "IRN",
          "LIE",
          "MAF",
          "MCO",
          "MHL",
          "MNP",
          "NCL",
          "PRK",
          "PSE",
          "PYF",
          "SMR",
          "SOM",
          "SSD",
          "SXM",
          "SYR",
          "TKM",
          "TMN",
          "VEN",
          "VGB",
          "VIR"
         ],
         "text": [
          [
           "Tuvalu",
           0.04727146333
          ],
          [
           "Nauru",
           0.1182234301
          ],
          [
           "Kiribati",
           0.1946472019
          ],
          [
           "Palau",
           0.2683549194
          ],
          [
           "Sao Tome and Principe",
           0.418637389
          ],
          [
           "Tonga",
           0.5123500594
          ],
          [
           "Dominica",
           0.5824037037
          ],
          [
           "St. Vincent and the Grenadines",
           0.8247185185
          ],
          [
           "Samoa",
           0.852250191
          ],
          [
           "Vanuatu",
           0.9342399737999999
          ],
          [
           "St. Kitts and Nevis",
           1.053244444
          ],
          [
           "Comoros",
           1.165839927
          ],
          [
           "Turks and Caicos Islands",
           1.197415
          ],
          [
           "Grenada",
           1.210603704
          ],
          [
           "Guinea-Bissau",
           1.339449165
          ],
          [
           "Solomon Islands",
           1.589913622
          ],
          [
           "Antigua and Barbuda",
           1.661962963
          ],
          [
           "Seychelles",
           1.703387387
          ],
          [
           "Gambia, The",
           1.82607374
          ],
          [
           "Belize",
           1.8796136
          ],
          [
           "Cabo Verde",
           1.98184574
          ],
          [
           "Timor-Leste",
           2.0179249
          ],
          [
           "St. Lucia",
           2.12245063
          ],
          [
           "Central African Republic",
           2.220307369
          ],
          [
           "Lesotho",
           2.376328637
          ],
          [
           "Bhutan",
           2.530547158
          ],
          [
           "Burundi",
           3.012334882
          ],
          [
           "Liberia",
           3.0705181
          ],
          [
           "Curacao",
           3.101787709
          ],
          [
           "Andorra",
           3.154057987
          ],
          [
           "Djibouti",
           3.324634256
          ],
          [
           "Suriname",
           3.69737195
          ],
          [
           "Sierra Leone",
           4.121733705
          ],
          [
           "Eswatini",
           4.471598727
          ],
          [
           "Guyana",
           5.173759528
          ],
          [
           "Barbados",
           5.209
          ],
          [
           "Togo",
           5.490272413
          ],
          [
           "Fiji",
           5.496250694
          ],
          [
           "Montenegro",
           5.542577965
          ],
          [
           "Maldives",
           5.64217917
          ],
          [
           "Bermuda",
           7.484113
          ],
          [
           "Mauritania",
           7.600656944
          ],
          [
           "Malawi",
           7.666704427
          ],
          [
           "Kosovo",
           7.926133714
          ],
          [
           "Tajikistan",
           8.116626794
          ],
          [
           "Kyrgyz Republic",
           8.454619608
          ],
          [
           "Rwanda",
           10.354417725
          ],
          [
           "Equatorial Guinea",
           11.026774945
          ],
          [
           "Chad",
           11.314951343
          ],
          [
           "Moldova",
           11.96871337
          ],
          [
           "Congo, Rep.",
           12.267392147
          ],
          [
           "Guinea",
           12.296665331
          ],
          [
           "Namibia",
           12.366528259
          ],
          [
           "Nicaragua",
           12.520915291
          ],
          [
           "North Macedonia",
           12.547040499
          ],
          [
           "Niger",
           12.911689659
          ],
          [
           "Brunei Darussalam",
           13.469422959
          ],
          [
           "Bahamas, The",
           13.5788
          ],
          [
           "Armenia",
           13.672802158
          ],
          [
           "Mongolia",
           13.996719329
          ],
          [
           "Mauritius",
           14.048430519
          ],
          [
           "Madagascar",
           14.114631281
          ],
          [
           "Haiti",
           14.332163266
          ],
          [
           "Benin",
           14.390709095
          ],
          [
           "Malta",
           14.989415684
          ],
          [
           "Albania",
           15.27918329
          ],
          [
           "Mozambique",
           15.291448212
          ],
          [
           "Burkina Faso",
           15.99080357
          ],
          [
           "Jamaica",
           16.458071068
          ],
          [
           "Gabon",
           16.874450215
          ],
          [
           "Mali",
           17.279566719
          ],
          [
           "Georgia",
           17.477255546
          ],
          [
           "Lao PDR",
           18.173839147
          ],
          [
           "Botswana",
           18.340480936
          ],
          [
           "Afghanistan",
           19.291104008
          ],
          [
           "Bosnia and Herzegovina",
           20.164193807
          ],
          [
           "Zimbabwe",
           21.4407588
          ],
          [
           "Yemen, Rep.",
           22.581081994
          ],
          [
           "Zambia",
           23.309773923
          ],
          [
           "Senegal",
           23.578084052
          ],
          [
           "Iceland",
           24.188038474
          ],
          [
           "Trinidad and Tobago",
           24.26971481
          ],
          [
           "Papua New Guinea",
           24.829107011
          ],
          [
           "Cyprus",
           24.948935408
          ],
          [
           "Honduras",
           25.095395475
          ],
          [
           "El Salvador",
           27.02264
          ],
          [
           "Cambodia",
           27.089389787
          ],
          [
           "Sudan",
           30.513456085
          ],
          [
           "Nepal",
           30.641380604
          ],
          [
           "Estonia",
           31.471100656
          ],
          [
           "Latvia",
           34.102913582
          ],
          [
           "Uganda",
           35.165157017
          ],
          [
           "Paraguay",
           38.14528894
          ],
          [
           "Bahrain",
           38.574069149
          ],
          [
           "Tunisia",
           38.796687568
          ],
          [
           "Cameroon",
           39.007354359
          ],
          [
           "Bolivia",
           40.895322844
          ],
          [
           "Jordan",
           44.502895862
          ],
          [
           "Azerbaijan",
           48.047647059
          ],
          [
           "Congo, Dem. Rep.",
           50.400746171
          ],
          [
           "Serbia",
           51.475016532
          ],
          [
           "Lebanon",
           51.991634492
          ],
          [
           "Libya",
           52.091152228
          ],
          [
           "Macao SAR, China",
           53.859116536
          ],
          [
           "Slovenia",
           54.174227309
          ],
          [
           "Lithuania",
           54.62741186
          ],
          [
           "Uruguay",
           56.045912953
          ],
          [
           "Uzbekistan",
           57.92128644
          ],
          [
           "Cote d'Ivoire",
           58.53942493
          ],
          [
           "Croatia",
           60.752588976
          ],
          [
           "Costa Rica",
           61.801385049
          ],
          [
           "Belarus",
           63.080457023
          ],
          [
           "Tanzania",
           63.177068175
          ],
          [
           "Panama",
           66.8008
          ],
          [
           "Ghana",
           66.983634224
          ],
          [
           "Bulgaria",
           68.558815112
          ],
          [
           "Luxembourg",
           71.104919108
          ],
          [
           "Myanmar",
           76.085852617
          ],
          [
           "Oman",
           76.331518669
          ],
          [
           "Guatemala",
           76.710355347
          ],
          [
           "Sri Lanka",
           84.008783756
          ],
          [
           "Angola",
           88.815697793
          ],
          [
           "Dominican Republic",
           88.941299734
          ],
          [
           "Kenya",
           95.503088538
          ],
          [
           "Ethiopia",
           95.912590628
          ],
          [
           "Puerto Rico",
           104.9886
          ],
          [
           "Slovak Republic",
           105.07967301
          ],
          [
           "Ecuador",
           107.435665
          ],
          [
           "Morocco",
           119.700325462
          ],
          [
           "Kuwait",
           134.628542747
          ],
          [
           "Ukraine",
           153.781069118
          ],
          [
           "Hungary",
           163.469042868
          ],
          [
           "Algeria",
           171.091289782
          ],
          [
           "Qatar",
           175.837550996
          ],
          [
           "Kazakhstan",
           181.665908556
          ],
          [
           "New Zealand",
           206.928765544
          ],
          [
           "Greece",
           209.852761133
          ],
          [
           "Peru",
           226.84805082
          ],
          [
           "Iraq",
           234.094042939
          ],
          [
           "Portugal",
           238.785085031
          ],
          [
           "Romania",
           250.077444017
          ],
          [
           "Czech Republic",
           250.68050453
          ],
          [
           "Vietnam",
           261.921244843
          ],
          [
           "Finland",
           269.29631018
          ],
          [
           "Pakistan",
           278.221906023
          ],
          [
           "Chile",
           282.318159745
          ],
          [
           "Bangladesh",
           302.571254131
          ],
          [
           "Egypt, Arab Rep.",
           303.092255125
          ],
          [
           "Colombia",
           323.615979419
          ],
          [
           "Denmark",
           350.104327659
          ],
          [
           "South Africa",
           351.431649241
          ],
          [
           "Malaysia",
           364.681367532
          ],
          [
           "Hong Kong SAR, China",
           365.711532817
          ],
          [
           "Singapore",
           372.062527489
          ],
          [
           "Philippines",
           376.795508679
          ],
          [
           "Ireland",
           388.698711348
          ],
          [
           "Israel",
           394.652210296
          ],
          [
           "Norway",
           403.336363636
          ],
          [
           "United Arab Emirates",
           421.142267938
          ],
          [
           "Austria",
           445.075391688
          ],
          [
           "Argentina",
           445.445177459
          ],
          [
           "Nigeria",
           448.120428859
          ],
          [
           "Sweden",
           530.883869005
          ],
          [
           "Belgium",
           533.097455835
          ],
          [
           "Thailand",
           543.548969969
          ],
          [
           "Poland",
           595.858207012
          ],
          [
           "Switzerland",
           703.082435159
          ],
          [
           "Turkey",
           761.425499358
          ],
          [
           "Saudi Arabia",
           792.966838162
          ],
          [
           "Netherlands",
           907.050863145
          ],
          [
           "Indonesia",
           1119.190780753
          ],
          [
           "Mexico",
           1268.87052716
          ],
          [
           "Spain",
           1393.490524518
          ],
          [
           "Australia",
           1396.567014733
          ],
          [
           "Korea, Rep.",
           1646.73921951
          ],
          [
           "Russian Federation",
           1699.876578871
          ],
          [
           "Canada",
           1736.42562952
          ],
          [
           "Brazil",
           1839.758040766
          ],
          [
           "Italy",
           2003.576145498
          ],
          [
           "France",
           2715.518274227
          ],
          [
           "United Kingdom",
           2829.108219166
          ],
          [
           "India",
           2868.929415617
          ],
          [
           "Germany",
           3861.123558039
          ],
          [
           "Japan",
           5081.76954238
          ],
          [
           "China",
           14279.937467431
          ],
          [
           "United States",
           21433.226
          ],
          [
           "Aruba",
           null
          ],
          [
           "American Samoa",
           null
          ],
          [
           "Cuba",
           null
          ],
          [
           "Cayman Islands",
           null
          ],
          [
           "Eritrea",
           null
          ],
          [
           "Faroe Islands",
           null
          ],
          [
           "Micronesia, Fed. Sts.",
           null
          ],
          [
           "Gibraltar",
           null
          ],
          [
           "Greenland",
           null
          ],
          [
           "Guam",
           null
          ],
          [
           "Isle of Man",
           null
          ],
          [
           "Iran, Islamic Rep.",
           null
          ],
          [
           "Liechtenstein",
           null
          ],
          [
           "St. Martin (French part)",
           null
          ],
          [
           "Monaco",
           null
          ],
          [
           "Marshall Islands",
           null
          ],
          [
           "Northern Mariana Islands",
           null
          ],
          [
           "New Caledonia",
           null
          ],
          [
           "Korea, Dem. People's Rep.",
           null
          ],
          [
           "West Bank and Gaza",
           null
          ],
          [
           "French Polynesia",
           null
          ],
          [
           "San Marino",
           null
          ],
          [
           "Somalia",
           null
          ],
          [
           "South Sudan",
           null
          ],
          [
           "Sint Maarten (Dutch part)",
           null
          ],
          [
           "Syrian Arab Republic",
           null
          ],
          [
           "Turkmenistan",
           null
          ],
          [
           "Middle East & North Africa (IDA & IBRD countries)",
           null
          ],
          [
           "Venezuela, RB",
           null
          ],
          [
           "British Virgin Islands",
           null
          ],
          [
           "Virgin Islands (U.S.)",
           null
          ]
         ],
         "type": "choropleth",
         "z": [
          -1.3254009535187992,
          -0.9272964443113431,
          -0.7107518349878134,
          -0.5712904389508544,
          -0.3781619869116846,
          -0.2904332091069325,
          -0.2347758718623301,
          -0.08369425353670154,
          -0.06943289276819796,
          -0.029541554272223207,
          0.02252917684563996,
          0.0666389247000578,
          0.0782446942442955,
          0.08300199835920301,
          0.12692623583976773,
          0.20137353029040772,
          0.22062134126280192,
          0.2313134271195627,
          0.26151831111091817,
          0.27406857871289864,
          0.29706984748830223,
          0.30490499930302245,
          0.3268375969758541,
          0.3464131003156872,
          0.37590650169889583,
          0.40321443501305176,
          0.4789032508355134,
          0.4872116617921012,
          0.4916120707294141,
          0.49886967352129985,
          0.5217438754022152,
          0.5678931421357635,
          0.6150799296593701,
          0.6504628238433119,
          0.7138062392066445,
          0.7167543574326971,
          0.7395938935443717,
          0.7400665334652158,
          0.7437118108584492,
          0.7514468732597628,
          0.8741403361376955,
          0.8808511310734038,
          0.8846087203062805,
          0.8990613946146885,
          0.909375577378632,
          0.9270940725058588,
          1.0151256816042113,
          1.0424485107725572,
          1.0536526907245043,
          1.0780474665014612,
          1.0887522484203336,
          1.0897873533339753,
          1.092247794246683,
          1.0976360773809006,
          1.0985412997991768,
          1.1109830789483521,
          1.1293489905938,
          1.1328613917113781,
          1.1358575297136766,
          1.146026253944313,
          1.1476278078701931,
          1.1496695374798462,
          1.1563117468230584,
          1.1580821941074413,
          1.1757847035513782,
          1.1841001407497664,
          1.1844486182243659,
          1.203870288464687,
          1.2163789333298671,
          1.2272296320226868,
          1.2375328484492072,
          1.2424732363758852,
          1.2594466798802804,
          1.2634107198352231,
          1.2853570825356684,
          1.3045808629828437,
          1.3312401512083003,
          1.353744747720283,
          1.3675380614026138,
          1.3725085115542097,
          1.3836006507323417,
          1.3850646730286384,
          1.3949611002565752,
          1.3970520186449682,
          1.399594044060989,
          1.431727775530735,
          1.4327992222674435,
          1.484491400485369,
          1.4863083293414705,
          1.497911931997057,
          1.5327914845212642,
          1.5461125609351045,
          1.581440908904279,
          1.5862954546747716,
          1.5887946474408674,
          1.5911464956527022,
          1.6116736410343808,
          1.6483882720139063,
          1.681672124693157,
          1.7024369661191174,
          1.7115964947705007,
          1.7159334708226581,
          1.7167639638970453,
          1.7312592252974195,
          1.7337927256618015,
          1.737410624978306,
          1.7485439479447924,
          1.7628381990383468,
          1.7674484517678375,
          1.7835647901556586,
          1.7909982082991298,
          1.7998948311668208,
          1.800559467960978,
          1.824781663575921,
          1.8259687066647639,
          1.8360633031571658,
          1.8518996466870306,
          1.881303911677881,
          1.8827039030603,
          1.884853994542163,
          1.9243246972205055,
          1.9484897322466601,
          1.949103471674415,
          1.980017416749413,
          1.9818756215747133,
          2.0211421445377535,
          2.0215187126658636,
          2.031148476349405,
          2.0780953312431567,
          2.1291371449056937,
          2.186902875884014,
          2.213435519781886,
          2.233227900272236,
          2.245111626419668,
          2.2592734352048724,
          2.3158208669280365,
          2.3219146878050108,
          2.3557350519654694,
          2.3693903622158983,
          2.378007196448,
          2.3980745218755857,
          2.3991205601079337,
          2.4181707261605703,
          2.4302304028751442,
          2.444391321523628,
          2.450738814467822,
          2.4808276653748855,
          2.481574839041824,
          2.510029957940722,
          2.544197479136375,
          2.545840870624775,
          2.5619135747073853,
          2.5631386561537637,
          2.5706159319826973,
          2.5761057174553628,
          2.5896131008180934,
          2.596214539465388,
          2.6056673785028606,
          2.6244288315675397,
          2.648433582713088,
          2.648794261477007,
          2.6513947429277747,
          2.7249995294312903,
          2.726806609894206,
          2.735238677087015,
          2.775142925447299,
          2.84700624825706,
          2.8816274167980716,
          2.899255025521394,
          2.9576316409342454,
          3.0489041240314925,
          3.103417309873561,
          3.144104019935913,
          3.145061780302295,
          3.2166248289845734,
          3.230417390165858,
          3.239656187369936,
          3.264760709710695,
          3.3018058523545406,
          3.4338527297466697,
          3.4516495604254303,
          3.457719863413256,
          3.5867136995043754,
          3.7060149659599038,
          4.1547263056468,
          4.331087543349609,
          null,
          null,
          null,
          null,
          null,
          null,
          null,
          null,
          null,
          null,
          null,
          null,
          null,
          null,
          null,
          null,
          null,
          null,
          null,
          null,
          null,
          null,
          null,
          null,
          null,
          null,
          null,
          null,
          null,
          null,
          null
         ]
        }
       ],
       "layout": {
        "geo": {
         "projection": {
          "type": "natural earth"
         },
         "showframe": false
        },
        "template": {
         "data": {
          "bar": [
           {
            "error_x": {
             "color": "#2a3f5f"
            },
            "error_y": {
             "color": "#2a3f5f"
            },
            "marker": {
             "line": {
              "color": "#E5ECF6",
              "width": 0.5
             }
            },
            "type": "bar"
           }
          ],
          "barpolar": [
           {
            "marker": {
             "line": {
              "color": "#E5ECF6",
              "width": 0.5
             }
            },
            "type": "barpolar"
           }
          ],
          "carpet": [
           {
            "aaxis": {
             "endlinecolor": "#2a3f5f",
             "gridcolor": "white",
             "linecolor": "white",
             "minorgridcolor": "white",
             "startlinecolor": "#2a3f5f"
            },
            "baxis": {
             "endlinecolor": "#2a3f5f",
             "gridcolor": "white",
             "linecolor": "white",
             "minorgridcolor": "white",
             "startlinecolor": "#2a3f5f"
            },
            "type": "carpet"
           }
          ],
          "choropleth": [
           {
            "colorbar": {
             "outlinewidth": 0,
             "ticks": ""
            },
            "type": "choropleth"
           }
          ],
          "contour": [
           {
            "colorbar": {
             "outlinewidth": 0,
             "ticks": ""
            },
            "colorscale": [
             [
              0,
              "#0d0887"
             ],
             [
              0.1111111111111111,
              "#46039f"
             ],
             [
              0.2222222222222222,
              "#7201a8"
             ],
             [
              0.3333333333333333,
              "#9c179e"
             ],
             [
              0.4444444444444444,
              "#bd3786"
             ],
             [
              0.5555555555555556,
              "#d8576b"
             ],
             [
              0.6666666666666666,
              "#ed7953"
             ],
             [
              0.7777777777777778,
              "#fb9f3a"
             ],
             [
              0.8888888888888888,
              "#fdca26"
             ],
             [
              1,
              "#f0f921"
             ]
            ],
            "type": "contour"
           }
          ],
          "contourcarpet": [
           {
            "colorbar": {
             "outlinewidth": 0,
             "ticks": ""
            },
            "type": "contourcarpet"
           }
          ],
          "heatmap": [
           {
            "colorbar": {
             "outlinewidth": 0,
             "ticks": ""
            },
            "colorscale": [
             [
              0,
              "#0d0887"
             ],
             [
              0.1111111111111111,
              "#46039f"
             ],
             [
              0.2222222222222222,
              "#7201a8"
             ],
             [
              0.3333333333333333,
              "#9c179e"
             ],
             [
              0.4444444444444444,
              "#bd3786"
             ],
             [
              0.5555555555555556,
              "#d8576b"
             ],
             [
              0.6666666666666666,
              "#ed7953"
             ],
             [
              0.7777777777777778,
              "#fb9f3a"
             ],
             [
              0.8888888888888888,
              "#fdca26"
             ],
             [
              1,
              "#f0f921"
             ]
            ],
            "type": "heatmap"
           }
          ],
          "heatmapgl": [
           {
            "colorbar": {
             "outlinewidth": 0,
             "ticks": ""
            },
            "colorscale": [
             [
              0,
              "#0d0887"
             ],
             [
              0.1111111111111111,
              "#46039f"
             ],
             [
              0.2222222222222222,
              "#7201a8"
             ],
             [
              0.3333333333333333,
              "#9c179e"
             ],
             [
              0.4444444444444444,
              "#bd3786"
             ],
             [
              0.5555555555555556,
              "#d8576b"
             ],
             [
              0.6666666666666666,
              "#ed7953"
             ],
             [
              0.7777777777777778,
              "#fb9f3a"
             ],
             [
              0.8888888888888888,
              "#fdca26"
             ],
             [
              1,
              "#f0f921"
             ]
            ],
            "type": "heatmapgl"
           }
          ],
          "histogram": [
           {
            "marker": {
             "colorbar": {
              "outlinewidth": 0,
              "ticks": ""
             }
            },
            "type": "histogram"
           }
          ],
          "histogram2d": [
           {
            "colorbar": {
             "outlinewidth": 0,
             "ticks": ""
            },
            "colorscale": [
             [
              0,
              "#0d0887"
             ],
             [
              0.1111111111111111,
              "#46039f"
             ],
             [
              0.2222222222222222,
              "#7201a8"
             ],
             [
              0.3333333333333333,
              "#9c179e"
             ],
             [
              0.4444444444444444,
              "#bd3786"
             ],
             [
              0.5555555555555556,
              "#d8576b"
             ],
             [
              0.6666666666666666,
              "#ed7953"
             ],
             [
              0.7777777777777778,
              "#fb9f3a"
             ],
             [
              0.8888888888888888,
              "#fdca26"
             ],
             [
              1,
              "#f0f921"
             ]
            ],
            "type": "histogram2d"
           }
          ],
          "histogram2dcontour": [
           {
            "colorbar": {
             "outlinewidth": 0,
             "ticks": ""
            },
            "colorscale": [
             [
              0,
              "#0d0887"
             ],
             [
              0.1111111111111111,
              "#46039f"
             ],
             [
              0.2222222222222222,
              "#7201a8"
             ],
             [
              0.3333333333333333,
              "#9c179e"
             ],
             [
              0.4444444444444444,
              "#bd3786"
             ],
             [
              0.5555555555555556,
              "#d8576b"
             ],
             [
              0.6666666666666666,
              "#ed7953"
             ],
             [
              0.7777777777777778,
              "#fb9f3a"
             ],
             [
              0.8888888888888888,
              "#fdca26"
             ],
             [
              1,
              "#f0f921"
             ]
            ],
            "type": "histogram2dcontour"
           }
          ],
          "mesh3d": [
           {
            "colorbar": {
             "outlinewidth": 0,
             "ticks": ""
            },
            "type": "mesh3d"
           }
          ],
          "parcoords": [
           {
            "line": {
             "colorbar": {
              "outlinewidth": 0,
              "ticks": ""
             }
            },
            "type": "parcoords"
           }
          ],
          "pie": [
           {
            "automargin": true,
            "type": "pie"
           }
          ],
          "scatter": [
           {
            "marker": {
             "colorbar": {
              "outlinewidth": 0,
              "ticks": ""
             }
            },
            "type": "scatter"
           }
          ],
          "scatter3d": [
           {
            "line": {
             "colorbar": {
              "outlinewidth": 0,
              "ticks": ""
             }
            },
            "marker": {
             "colorbar": {
              "outlinewidth": 0,
              "ticks": ""
             }
            },
            "type": "scatter3d"
           }
          ],
          "scattercarpet": [
           {
            "marker": {
             "colorbar": {
              "outlinewidth": 0,
              "ticks": ""
             }
            },
            "type": "scattercarpet"
           }
          ],
          "scattergeo": [
           {
            "marker": {
             "colorbar": {
              "outlinewidth": 0,
              "ticks": ""
             }
            },
            "type": "scattergeo"
           }
          ],
          "scattergl": [
           {
            "marker": {
             "colorbar": {
              "outlinewidth": 0,
              "ticks": ""
             }
            },
            "type": "scattergl"
           }
          ],
          "scattermapbox": [
           {
            "marker": {
             "colorbar": {
              "outlinewidth": 0,
              "ticks": ""
             }
            },
            "type": "scattermapbox"
           }
          ],
          "scatterpolar": [
           {
            "marker": {
             "colorbar": {
              "outlinewidth": 0,
              "ticks": ""
             }
            },
            "type": "scatterpolar"
           }
          ],
          "scatterpolargl": [
           {
            "marker": {
             "colorbar": {
              "outlinewidth": 0,
              "ticks": ""
             }
            },
            "type": "scatterpolargl"
           }
          ],
          "scatterternary": [
           {
            "marker": {
             "colorbar": {
              "outlinewidth": 0,
              "ticks": ""
             }
            },
            "type": "scatterternary"
           }
          ],
          "surface": [
           {
            "colorbar": {
             "outlinewidth": 0,
             "ticks": ""
            },
            "colorscale": [
             [
              0,
              "#0d0887"
             ],
             [
              0.1111111111111111,
              "#46039f"
             ],
             [
              0.2222222222222222,
              "#7201a8"
             ],
             [
              0.3333333333333333,
              "#9c179e"
             ],
             [
              0.4444444444444444,
              "#bd3786"
             ],
             [
              0.5555555555555556,
              "#d8576b"
             ],
             [
              0.6666666666666666,
              "#ed7953"
             ],
             [
              0.7777777777777778,
              "#fb9f3a"
             ],
             [
              0.8888888888888888,
              "#fdca26"
             ],
             [
              1,
              "#f0f921"
             ]
            ],
            "type": "surface"
           }
          ],
          "table": [
           {
            "cells": {
             "fill": {
              "color": "#EBF0F8"
             },
             "line": {
              "color": "white"
             }
            },
            "header": {
             "fill": {
              "color": "#C8D4E3"
             },
             "line": {
              "color": "white"
             }
            },
            "type": "table"
           }
          ]
         },
         "layout": {
          "annotationdefaults": {
           "arrowcolor": "#2a3f5f",
           "arrowhead": 0,
           "arrowwidth": 1
          },
          "autotypenumbers": "strict",
          "coloraxis": {
           "colorbar": {
            "outlinewidth": 0,
            "ticks": ""
           }
          },
          "colorscale": {
           "diverging": [
            [
             0,
             "#8e0152"
            ],
            [
             0.1,
             "#c51b7d"
            ],
            [
             0.2,
             "#de77ae"
            ],
            [
             0.3,
             "#f1b6da"
            ],
            [
             0.4,
             "#fde0ef"
            ],
            [
             0.5,
             "#f7f7f7"
            ],
            [
             0.6,
             "#e6f5d0"
            ],
            [
             0.7,
             "#b8e186"
            ],
            [
             0.8,
             "#7fbc41"
            ],
            [
             0.9,
             "#4d9221"
            ],
            [
             1,
             "#276419"
            ]
           ],
           "sequential": [
            [
             0,
             "#0d0887"
            ],
            [
             0.1111111111111111,
             "#46039f"
            ],
            [
             0.2222222222222222,
             "#7201a8"
            ],
            [
             0.3333333333333333,
             "#9c179e"
            ],
            [
             0.4444444444444444,
             "#bd3786"
            ],
            [
             0.5555555555555556,
             "#d8576b"
            ],
            [
             0.6666666666666666,
             "#ed7953"
            ],
            [
             0.7777777777777778,
             "#fb9f3a"
            ],
            [
             0.8888888888888888,
             "#fdca26"
            ],
            [
             1,
             "#f0f921"
            ]
           ],
           "sequentialminus": [
            [
             0,
             "#0d0887"
            ],
            [
             0.1111111111111111,
             "#46039f"
            ],
            [
             0.2222222222222222,
             "#7201a8"
            ],
            [
             0.3333333333333333,
             "#9c179e"
            ],
            [
             0.4444444444444444,
             "#bd3786"
            ],
            [
             0.5555555555555556,
             "#d8576b"
            ],
            [
             0.6666666666666666,
             "#ed7953"
            ],
            [
             0.7777777777777778,
             "#fb9f3a"
            ],
            [
             0.8888888888888888,
             "#fdca26"
            ],
            [
             1,
             "#f0f921"
            ]
           ]
          },
          "colorway": [
           "#636efa",
           "#EF553B",
           "#00cc96",
           "#ab63fa",
           "#FFA15A",
           "#19d3f3",
           "#FF6692",
           "#B6E880",
           "#FF97FF",
           "#FECB52"
          ],
          "font": {
           "color": "#2a3f5f"
          },
          "geo": {
           "bgcolor": "white",
           "lakecolor": "white",
           "landcolor": "#E5ECF6",
           "showlakes": true,
           "showland": true,
           "subunitcolor": "white"
          },
          "hoverlabel": {
           "align": "left"
          },
          "hovermode": "closest",
          "mapbox": {
           "style": "light"
          },
          "paper_bgcolor": "white",
          "plot_bgcolor": "#E5ECF6",
          "polar": {
           "angularaxis": {
            "gridcolor": "white",
            "linecolor": "white",
            "ticks": ""
           },
           "bgcolor": "#E5ECF6",
           "radialaxis": {
            "gridcolor": "white",
            "linecolor": "white",
            "ticks": ""
           }
          },
          "scene": {
           "xaxis": {
            "backgroundcolor": "#E5ECF6",
            "gridcolor": "white",
            "gridwidth": 2,
            "linecolor": "white",
            "showbackground": true,
            "ticks": "",
            "zerolinecolor": "white"
           },
           "yaxis": {
            "backgroundcolor": "#E5ECF6",
            "gridcolor": "white",
            "gridwidth": 2,
            "linecolor": "white",
            "showbackground": true,
            "ticks": "",
            "zerolinecolor": "white"
           },
           "zaxis": {
            "backgroundcolor": "#E5ECF6",
            "gridcolor": "white",
            "gridwidth": 2,
            "linecolor": "white",
            "showbackground": true,
            "ticks": "",
            "zerolinecolor": "white"
           }
          },
          "shapedefaults": {
           "line": {
            "color": "#2a3f5f"
           }
          },
          "ternary": {
           "aaxis": {
            "gridcolor": "white",
            "linecolor": "white",
            "ticks": ""
           },
           "baxis": {
            "gridcolor": "white",
            "linecolor": "white",
            "ticks": ""
           },
           "bgcolor": "#E5ECF6",
           "caxis": {
            "gridcolor": "white",
            "linecolor": "white",
            "ticks": ""
           }
          },
          "title": {
           "x": 0.05
          },
          "xaxis": {
           "automargin": true,
           "gridcolor": "white",
           "linecolor": "white",
           "ticks": "",
           "title": {
            "standoff": 15
           },
           "zerolinecolor": "white",
           "zerolinewidth": 2
          },
          "yaxis": {
           "automargin": true,
           "gridcolor": "white",
           "linecolor": "white",
           "ticks": "",
           "title": {
            "standoff": 15
           },
           "zerolinecolor": "white",
           "zerolinewidth": 2
          }
         }
        },
        "title": {
         "text": "World GDP 2019"
        }
       }
      },
      "text/html": [
       "<div>                            <div id=\"3a8f15dd-7f2d-4124-825c-f2af4823c972\" class=\"plotly-graph-div\" style=\"height:525px; width:100%;\"></div>            <script type=\"text/javascript\">                require([\"plotly\"], function(Plotly) {                    window.PLOTLYENV=window.PLOTLYENV || {};                                    if (document.getElementById(\"3a8f15dd-7f2d-4124-825c-f2af4823c972\")) {                    Plotly.newPlot(                        \"3a8f15dd-7f2d-4124-825c-f2af4823c972\",                        [{\"colorbar\": {\"len\": 0.75, \"ticktext\": [\"1\", \"200\", \"600\", \"1200\", \"2500\", \"24000\"], \"tickvals\": [0, 0.4, 1.2, 2.4, 3.0, 4], \"title\": {\"text\": \"GDP in Billion USD\"}, \"x\": 0.9}, \"colorscale\": [[0, \"rgb(22,200,150)\"], [1, \"rgb(210,100,190)\"]], \"locations\": [\"TUV\", \"NRU\", \"KIR\", \"PLW\", \"STP\", \"TON\", \"DMA\", \"VCT\", \"WSM\", \"VUT\", \"KNA\", \"COM\", \"TCA\", \"GRD\", \"GNB\", \"SLB\", \"ATG\", \"SYC\", \"GMB\", \"BLZ\", \"CPV\", \"TLS\", \"LCA\", \"CAF\", \"LSO\", \"BTN\", \"BDI\", \"LBR\", \"CUW\", \"AND\", \"DJI\", \"SUR\", \"SLE\", \"SWZ\", \"GUY\", \"BRB\", \"TGO\", \"FJI\", \"MNE\", \"MDV\", \"BMU\", \"MRT\", \"MWI\", \"XKX\", \"TJK\", \"KGZ\", \"RWA\", \"GNQ\", \"TCD\", \"MDA\", \"COG\", \"GIN\", \"NAM\", \"NIC\", \"MKD\", \"NER\", \"BRN\", \"BHS\", \"ARM\", \"MNG\", \"MUS\", \"MDG\", \"HTI\", \"BEN\", \"MLT\", \"ALB\", \"MOZ\", \"BFA\", \"JAM\", \"GAB\", \"MLI\", \"GEO\", \"LAO\", \"BWA\", \"AFG\", \"BIH\", \"ZWE\", \"YEM\", \"ZMB\", \"SEN\", \"ISL\", \"TTO\", \"PNG\", \"CYP\", \"HND\", \"SLV\", \"KHM\", \"SDN\", \"NPL\", \"EST\", \"LVA\", \"UGA\", \"PRY\", \"BHR\", \"TUN\", \"CMR\", \"BOL\", \"JOR\", \"AZE\", \"COD\", \"SRB\", \"LBN\", \"LBY\", \"MAC\", \"SVN\", \"LTU\", \"URY\", \"UZB\", \"CIV\", \"HRV\", \"CRI\", \"BLR\", \"TZA\", \"PAN\", \"GHA\", \"BGR\", \"LUX\", \"MMR\", \"OMN\", \"GTM\", \"LKA\", \"AGO\", \"DOM\", \"KEN\", \"ETH\", \"PRI\", \"SVK\", \"ECU\", \"MAR\", \"KWT\", \"UKR\", \"HUN\", \"DZA\", \"QAT\", \"KAZ\", \"NZL\", \"GRC\", \"PER\", \"IRQ\", \"PRT\", \"ROU\", \"CZE\", \"VNM\", \"FIN\", \"PAK\", \"CHL\", \"BGD\", \"EGY\", \"COL\", \"DNK\", \"ZAF\", \"MYS\", \"HKG\", \"SGP\", \"PHL\", \"IRL\", \"ISR\", \"NOR\", \"ARE\", \"AUT\", \"ARG\", \"NGA\", \"SWE\", \"BEL\", \"THA\", \"POL\", \"CHE\", \"TUR\", \"SAU\", \"NLD\", \"IDN\", \"MEX\", \"ESP\", \"AUS\", \"KOR\", \"RUS\", \"CAN\", \"BRA\", \"ITA\", \"FRA\", \"GBR\", \"IND\", \"DEU\", \"JPN\", \"CHN\", \"USA\", \"ABW\", \"ASM\", \"CUB\", \"CYM\", \"ERI\", \"FRO\", \"FSM\", \"GIB\", \"GRL\", \"GUM\", \"IMN\", \"IRN\", \"LIE\", \"MAF\", \"MCO\", \"MHL\", \"MNP\", \"NCL\", \"PRK\", \"PSE\", \"PYF\", \"SMR\", \"SOM\", \"SSD\", \"SXM\", \"SYR\", \"TKM\", \"TMN\", \"VEN\", \"VGB\", \"VIR\"], \"text\": [[\"Tuvalu\", 0.04727146333], [\"Nauru\", 0.1182234301], [\"Kiribati\", 0.1946472019], [\"Palau\", 0.2683549194], [\"Sao Tome and Principe\", 0.418637389], [\"Tonga\", 0.5123500594], [\"Dominica\", 0.5824037037], [\"St. Vincent and the Grenadines\", 0.8247185185], [\"Samoa\", 0.852250191], [\"Vanuatu\", 0.9342399737999999], [\"St. Kitts and Nevis\", 1.053244444], [\"Comoros\", 1.165839927], [\"Turks and Caicos Islands\", 1.197415], [\"Grenada\", 1.210603704], [\"Guinea-Bissau\", 1.339449165], [\"Solomon Islands\", 1.589913622], [\"Antigua and Barbuda\", 1.661962963], [\"Seychelles\", 1.703387387], [\"Gambia, The\", 1.82607374], [\"Belize\", 1.8796136], [\"Cabo Verde\", 1.98184574], [\"Timor-Leste\", 2.0179249], [\"St. Lucia\", 2.12245063], [\"Central African Republic\", 2.220307369], [\"Lesotho\", 2.376328637], [\"Bhutan\", 2.530547158], [\"Burundi\", 3.012334882], [\"Liberia\", 3.0705181], [\"Curacao\", 3.101787709], [\"Andorra\", 3.154057987], [\"Djibouti\", 3.324634256], [\"Suriname\", 3.69737195], [\"Sierra Leone\", 4.121733705], [\"Eswatini\", 4.471598727], [\"Guyana\", 5.173759528], [\"Barbados\", 5.209], [\"Togo\", 5.490272413], [\"Fiji\", 5.496250694], [\"Montenegro\", 5.542577965], [\"Maldives\", 5.64217917], [\"Bermuda\", 7.484113], [\"Mauritania\", 7.600656944], [\"Malawi\", 7.666704427], [\"Kosovo\", 7.926133714], [\"Tajikistan\", 8.116626794], [\"Kyrgyz Republic\", 8.454619608], [\"Rwanda\", 10.354417725], [\"Equatorial Guinea\", 11.026774945], [\"Chad\", 11.314951343], [\"Moldova\", 11.96871337], [\"Congo, Rep.\", 12.267392147], [\"Guinea\", 12.296665331], [\"Namibia\", 12.366528259], [\"Nicaragua\", 12.520915291], [\"North Macedonia\", 12.547040499], [\"Niger\", 12.911689659], [\"Brunei Darussalam\", 13.469422959], [\"Bahamas, The\", 13.5788], [\"Armenia\", 13.672802158], [\"Mongolia\", 13.996719329], [\"Mauritius\", 14.048430519], [\"Madagascar\", 14.114631281], [\"Haiti\", 14.332163266], [\"Benin\", 14.390709095], [\"Malta\", 14.989415684], [\"Albania\", 15.27918329], [\"Mozambique\", 15.291448212], [\"Burkina Faso\", 15.99080357], [\"Jamaica\", 16.458071068], [\"Gabon\", 16.874450215], [\"Mali\", 17.279566719], [\"Georgia\", 17.477255546], [\"Lao PDR\", 18.173839147], [\"Botswana\", 18.340480936], [\"Afghanistan\", 19.291104008], [\"Bosnia and Herzegovina\", 20.164193807], [\"Zimbabwe\", 21.4407588], [\"Yemen, Rep.\", 22.581081994], [\"Zambia\", 23.309773923], [\"Senegal\", 23.578084052], [\"Iceland\", 24.188038474], [\"Trinidad and Tobago\", 24.26971481], [\"Papua New Guinea\", 24.829107011], [\"Cyprus\", 24.948935408], [\"Honduras\", 25.095395475], [\"El Salvador\", 27.02264], [\"Cambodia\", 27.089389787], [\"Sudan\", 30.513456085], [\"Nepal\", 30.641380604], [\"Estonia\", 31.471100656], [\"Latvia\", 34.102913582], [\"Uganda\", 35.165157017], [\"Paraguay\", 38.14528894], [\"Bahrain\", 38.574069149], [\"Tunisia\", 38.796687568], [\"Cameroon\", 39.007354359], [\"Bolivia\", 40.895322844], [\"Jordan\", 44.502895862], [\"Azerbaijan\", 48.047647059], [\"Congo, Dem. Rep.\", 50.400746171], [\"Serbia\", 51.475016532], [\"Lebanon\", 51.991634492], [\"Libya\", 52.091152228], [\"Macao SAR, China\", 53.859116536], [\"Slovenia\", 54.174227309], [\"Lithuania\", 54.62741186], [\"Uruguay\", 56.045912953], [\"Uzbekistan\", 57.92128644], [\"Cote d'Ivoire\", 58.53942493], [\"Croatia\", 60.752588976], [\"Costa Rica\", 61.801385049], [\"Belarus\", 63.080457023], [\"Tanzania\", 63.177068175], [\"Panama\", 66.8008], [\"Ghana\", 66.983634224], [\"Bulgaria\", 68.558815112], [\"Luxembourg\", 71.104919108], [\"Myanmar\", 76.085852617], [\"Oman\", 76.331518669], [\"Guatemala\", 76.710355347], [\"Sri Lanka\", 84.008783756], [\"Angola\", 88.815697793], [\"Dominican Republic\", 88.941299734], [\"Kenya\", 95.503088538], [\"Ethiopia\", 95.912590628], [\"Puerto Rico\", 104.9886], [\"Slovak Republic\", 105.07967301], [\"Ecuador\", 107.435665], [\"Morocco\", 119.700325462], [\"Kuwait\", 134.628542747], [\"Ukraine\", 153.781069118], [\"Hungary\", 163.469042868], [\"Algeria\", 171.091289782], [\"Qatar\", 175.837550996], [\"Kazakhstan\", 181.665908556], [\"New Zealand\", 206.928765544], [\"Greece\", 209.852761133], [\"Peru\", 226.84805082], [\"Iraq\", 234.094042939], [\"Portugal\", 238.785085031], [\"Romania\", 250.077444017], [\"Czech Republic\", 250.68050453], [\"Vietnam\", 261.921244843], [\"Finland\", 269.29631018], [\"Pakistan\", 278.221906023], [\"Chile\", 282.318159745], [\"Bangladesh\", 302.571254131], [\"Egypt, Arab Rep.\", 303.092255125], [\"Colombia\", 323.615979419], [\"Denmark\", 350.104327659], [\"South Africa\", 351.431649241], [\"Malaysia\", 364.681367532], [\"Hong Kong SAR, China\", 365.711532817], [\"Singapore\", 372.062527489], [\"Philippines\", 376.795508679], [\"Ireland\", 388.698711348], [\"Israel\", 394.652210296], [\"Norway\", 403.336363636], [\"United Arab Emirates\", 421.142267938], [\"Austria\", 445.075391688], [\"Argentina\", 445.445177459], [\"Nigeria\", 448.120428859], [\"Sweden\", 530.883869005], [\"Belgium\", 533.097455835], [\"Thailand\", 543.548969969], [\"Poland\", 595.858207012], [\"Switzerland\", 703.082435159], [\"Turkey\", 761.425499358], [\"Saudi Arabia\", 792.966838162], [\"Netherlands\", 907.050863145], [\"Indonesia\", 1119.190780753], [\"Mexico\", 1268.87052716], [\"Spain\", 1393.490524518], [\"Australia\", 1396.567014733], [\"Korea, Rep.\", 1646.73921951], [\"Russian Federation\", 1699.876578871], [\"Canada\", 1736.42562952], [\"Brazil\", 1839.758040766], [\"Italy\", 2003.576145498], [\"France\", 2715.518274227], [\"United Kingdom\", 2829.108219166], [\"India\", 2868.929415617], [\"Germany\", 3861.123558039], [\"Japan\", 5081.76954238], [\"China\", 14279.937467431], [\"United States\", 21433.226], [\"Aruba\", null], [\"American Samoa\", null], [\"Cuba\", null], [\"Cayman Islands\", null], [\"Eritrea\", null], [\"Faroe Islands\", null], [\"Micronesia, Fed. Sts.\", null], [\"Gibraltar\", null], [\"Greenland\", null], [\"Guam\", null], [\"Isle of Man\", null], [\"Iran, Islamic Rep.\", null], [\"Liechtenstein\", null], [\"St. Martin (French part)\", null], [\"Monaco\", null], [\"Marshall Islands\", null], [\"Northern Mariana Islands\", null], [\"New Caledonia\", null], [\"Korea, Dem. People's Rep.\", null], [\"West Bank and Gaza\", null], [\"French Polynesia\", null], [\"San Marino\", null], [\"Somalia\", null], [\"South Sudan\", null], [\"Sint Maarten (Dutch part)\", null], [\"Syrian Arab Republic\", null], [\"Turkmenistan\", null], [\"Middle East & North Africa (IDA & IBRD countries)\", null], [\"Venezuela, RB\", null], [\"British Virgin Islands\", null], [\"Virgin Islands (U.S.)\", null]], \"type\": \"choropleth\", \"z\": [-1.3254009535187992, -0.9272964443113431, -0.7107518349878134, -0.5712904389508544, -0.3781619869116846, -0.2904332091069325, -0.2347758718623301, -0.08369425353670154, -0.06943289276819796, -0.029541554272223207, 0.02252917684563996, 0.0666389247000578, 0.0782446942442955, 0.08300199835920301, 0.12692623583976773, 0.20137353029040772, 0.22062134126280192, 0.2313134271195627, 0.26151831111091817, 0.27406857871289864, 0.29706984748830223, 0.30490499930302245, 0.3268375969758541, 0.3464131003156872, 0.37590650169889583, 0.40321443501305176, 0.4789032508355134, 0.4872116617921012, 0.4916120707294141, 0.49886967352129985, 0.5217438754022152, 0.5678931421357635, 0.6150799296593701, 0.6504628238433119, 0.7138062392066445, 0.7167543574326971, 0.7395938935443717, 0.7400665334652158, 0.7437118108584492, 0.7514468732597628, 0.8741403361376955, 0.8808511310734038, 0.8846087203062805, 0.8990613946146885, 0.909375577378632, 0.9270940725058588, 1.0151256816042113, 1.0424485107725572, 1.0536526907245043, 1.0780474665014612, 1.0887522484203336, 1.0897873533339753, 1.092247794246683, 1.0976360773809006, 1.0985412997991768, 1.1109830789483521, 1.1293489905938, 1.1328613917113781, 1.1358575297136766, 1.146026253944313, 1.1476278078701931, 1.1496695374798462, 1.1563117468230584, 1.1580821941074413, 1.1757847035513782, 1.1841001407497664, 1.1844486182243659, 1.203870288464687, 1.2163789333298671, 1.2272296320226868, 1.2375328484492072, 1.2424732363758852, 1.2594466798802804, 1.2634107198352231, 1.2853570825356684, 1.3045808629828437, 1.3312401512083003, 1.353744747720283, 1.3675380614026138, 1.3725085115542097, 1.3836006507323417, 1.3850646730286384, 1.3949611002565752, 1.3970520186449682, 1.399594044060989, 1.431727775530735, 1.4327992222674435, 1.484491400485369, 1.4863083293414705, 1.497911931997057, 1.5327914845212642, 1.5461125609351045, 1.581440908904279, 1.5862954546747716, 1.5887946474408674, 1.5911464956527022, 1.6116736410343808, 1.6483882720139063, 1.681672124693157, 1.7024369661191174, 1.7115964947705007, 1.7159334708226581, 1.7167639638970453, 1.7312592252974195, 1.7337927256618015, 1.737410624978306, 1.7485439479447924, 1.7628381990383468, 1.7674484517678375, 1.7835647901556586, 1.7909982082991298, 1.7998948311668208, 1.800559467960978, 1.824781663575921, 1.8259687066647639, 1.8360633031571658, 1.8518996466870306, 1.881303911677881, 1.8827039030603, 1.884853994542163, 1.9243246972205055, 1.9484897322466601, 1.949103471674415, 1.980017416749413, 1.9818756215747133, 2.0211421445377535, 2.0215187126658636, 2.031148476349405, 2.0780953312431567, 2.1291371449056937, 2.186902875884014, 2.213435519781886, 2.233227900272236, 2.245111626419668, 2.2592734352048724, 2.3158208669280365, 2.3219146878050108, 2.3557350519654694, 2.3693903622158983, 2.378007196448, 2.3980745218755857, 2.3991205601079337, 2.4181707261605703, 2.4302304028751442, 2.444391321523628, 2.450738814467822, 2.4808276653748855, 2.481574839041824, 2.510029957940722, 2.544197479136375, 2.545840870624775, 2.5619135747073853, 2.5631386561537637, 2.5706159319826973, 2.5761057174553628, 2.5896131008180934, 2.596214539465388, 2.6056673785028606, 2.6244288315675397, 2.648433582713088, 2.648794261477007, 2.6513947429277747, 2.7249995294312903, 2.726806609894206, 2.735238677087015, 2.775142925447299, 2.84700624825706, 2.8816274167980716, 2.899255025521394, 2.9576316409342454, 3.0489041240314925, 3.103417309873561, 3.144104019935913, 3.145061780302295, 3.2166248289845734, 3.230417390165858, 3.239656187369936, 3.264760709710695, 3.3018058523545406, 3.4338527297466697, 3.4516495604254303, 3.457719863413256, 3.5867136995043754, 3.7060149659599038, 4.1547263056468, 4.331087543349609, null, null, null, null, null, null, null, null, null, null, null, null, null, null, null, null, null, null, null, null, null, null, null, null, null, null, null, null, null, null, null]}],                        {\"geo\": {\"projection\": {\"type\": \"natural earth\"}, \"showframe\": false}, \"template\": {\"data\": {\"bar\": [{\"error_x\": {\"color\": \"#2a3f5f\"}, \"error_y\": {\"color\": \"#2a3f5f\"}, \"marker\": {\"line\": {\"color\": \"#E5ECF6\", \"width\": 0.5}}, \"type\": \"bar\"}], \"barpolar\": [{\"marker\": {\"line\": {\"color\": \"#E5ECF6\", \"width\": 0.5}}, \"type\": \"barpolar\"}], \"carpet\": [{\"aaxis\": {\"endlinecolor\": \"#2a3f5f\", \"gridcolor\": \"white\", \"linecolor\": \"white\", \"minorgridcolor\": \"white\", \"startlinecolor\": \"#2a3f5f\"}, \"baxis\": {\"endlinecolor\": \"#2a3f5f\", \"gridcolor\": \"white\", \"linecolor\": \"white\", \"minorgridcolor\": \"white\", \"startlinecolor\": \"#2a3f5f\"}, \"type\": \"carpet\"}], \"choropleth\": [{\"colorbar\": {\"outlinewidth\": 0, \"ticks\": \"\"}, \"type\": \"choropleth\"}], \"contour\": [{\"colorbar\": {\"outlinewidth\": 0, \"ticks\": \"\"}, \"colorscale\": [[0.0, \"#0d0887\"], [0.1111111111111111, \"#46039f\"], [0.2222222222222222, \"#7201a8\"], [0.3333333333333333, \"#9c179e\"], [0.4444444444444444, \"#bd3786\"], [0.5555555555555556, \"#d8576b\"], [0.6666666666666666, \"#ed7953\"], [0.7777777777777778, \"#fb9f3a\"], [0.8888888888888888, \"#fdca26\"], [1.0, \"#f0f921\"]], \"type\": \"contour\"}], \"contourcarpet\": [{\"colorbar\": {\"outlinewidth\": 0, \"ticks\": \"\"}, \"type\": \"contourcarpet\"}], \"heatmap\": [{\"colorbar\": {\"outlinewidth\": 0, \"ticks\": \"\"}, \"colorscale\": [[0.0, \"#0d0887\"], [0.1111111111111111, \"#46039f\"], [0.2222222222222222, \"#7201a8\"], [0.3333333333333333, \"#9c179e\"], [0.4444444444444444, \"#bd3786\"], [0.5555555555555556, \"#d8576b\"], [0.6666666666666666, \"#ed7953\"], [0.7777777777777778, \"#fb9f3a\"], [0.8888888888888888, \"#fdca26\"], [1.0, \"#f0f921\"]], \"type\": \"heatmap\"}], \"heatmapgl\": [{\"colorbar\": {\"outlinewidth\": 0, \"ticks\": \"\"}, \"colorscale\": [[0.0, \"#0d0887\"], [0.1111111111111111, \"#46039f\"], [0.2222222222222222, \"#7201a8\"], [0.3333333333333333, \"#9c179e\"], [0.4444444444444444, \"#bd3786\"], [0.5555555555555556, \"#d8576b\"], [0.6666666666666666, \"#ed7953\"], [0.7777777777777778, \"#fb9f3a\"], [0.8888888888888888, \"#fdca26\"], [1.0, \"#f0f921\"]], \"type\": \"heatmapgl\"}], \"histogram\": [{\"marker\": {\"colorbar\": {\"outlinewidth\": 0, \"ticks\": \"\"}}, \"type\": \"histogram\"}], \"histogram2d\": [{\"colorbar\": {\"outlinewidth\": 0, \"ticks\": \"\"}, \"colorscale\": [[0.0, \"#0d0887\"], [0.1111111111111111, \"#46039f\"], [0.2222222222222222, \"#7201a8\"], [0.3333333333333333, \"#9c179e\"], [0.4444444444444444, \"#bd3786\"], [0.5555555555555556, \"#d8576b\"], [0.6666666666666666, \"#ed7953\"], [0.7777777777777778, \"#fb9f3a\"], [0.8888888888888888, \"#fdca26\"], [1.0, \"#f0f921\"]], \"type\": \"histogram2d\"}], \"histogram2dcontour\": [{\"colorbar\": {\"outlinewidth\": 0, \"ticks\": \"\"}, \"colorscale\": [[0.0, \"#0d0887\"], [0.1111111111111111, \"#46039f\"], [0.2222222222222222, \"#7201a8\"], [0.3333333333333333, \"#9c179e\"], [0.4444444444444444, \"#bd3786\"], [0.5555555555555556, \"#d8576b\"], [0.6666666666666666, \"#ed7953\"], [0.7777777777777778, \"#fb9f3a\"], [0.8888888888888888, \"#fdca26\"], [1.0, \"#f0f921\"]], \"type\": \"histogram2dcontour\"}], \"mesh3d\": [{\"colorbar\": {\"outlinewidth\": 0, \"ticks\": \"\"}, \"type\": \"mesh3d\"}], \"parcoords\": [{\"line\": {\"colorbar\": {\"outlinewidth\": 0, \"ticks\": \"\"}}, \"type\": \"parcoords\"}], \"pie\": [{\"automargin\": true, \"type\": \"pie\"}], \"scatter\": [{\"marker\": {\"colorbar\": {\"outlinewidth\": 0, \"ticks\": \"\"}}, \"type\": \"scatter\"}], \"scatter3d\": [{\"line\": {\"colorbar\": {\"outlinewidth\": 0, \"ticks\": \"\"}}, \"marker\": {\"colorbar\": {\"outlinewidth\": 0, \"ticks\": \"\"}}, \"type\": \"scatter3d\"}], \"scattercarpet\": [{\"marker\": {\"colorbar\": {\"outlinewidth\": 0, \"ticks\": \"\"}}, \"type\": \"scattercarpet\"}], \"scattergeo\": [{\"marker\": {\"colorbar\": {\"outlinewidth\": 0, \"ticks\": \"\"}}, \"type\": \"scattergeo\"}], \"scattergl\": [{\"marker\": {\"colorbar\": {\"outlinewidth\": 0, \"ticks\": \"\"}}, \"type\": \"scattergl\"}], \"scattermapbox\": [{\"marker\": {\"colorbar\": {\"outlinewidth\": 0, \"ticks\": \"\"}}, \"type\": \"scattermapbox\"}], \"scatterpolar\": [{\"marker\": {\"colorbar\": {\"outlinewidth\": 0, \"ticks\": \"\"}}, \"type\": \"scatterpolar\"}], \"scatterpolargl\": [{\"marker\": {\"colorbar\": {\"outlinewidth\": 0, \"ticks\": \"\"}}, \"type\": \"scatterpolargl\"}], \"scatterternary\": [{\"marker\": {\"colorbar\": {\"outlinewidth\": 0, \"ticks\": \"\"}}, \"type\": \"scatterternary\"}], \"surface\": [{\"colorbar\": {\"outlinewidth\": 0, \"ticks\": \"\"}, \"colorscale\": [[0.0, \"#0d0887\"], [0.1111111111111111, \"#46039f\"], [0.2222222222222222, \"#7201a8\"], [0.3333333333333333, \"#9c179e\"], [0.4444444444444444, \"#bd3786\"], [0.5555555555555556, \"#d8576b\"], [0.6666666666666666, \"#ed7953\"], [0.7777777777777778, \"#fb9f3a\"], [0.8888888888888888, \"#fdca26\"], [1.0, \"#f0f921\"]], \"type\": \"surface\"}], \"table\": [{\"cells\": {\"fill\": {\"color\": \"#EBF0F8\"}, \"line\": {\"color\": \"white\"}}, \"header\": {\"fill\": {\"color\": \"#C8D4E3\"}, \"line\": {\"color\": \"white\"}}, \"type\": \"table\"}]}, \"layout\": {\"annotationdefaults\": {\"arrowcolor\": \"#2a3f5f\", \"arrowhead\": 0, \"arrowwidth\": 1}, \"autotypenumbers\": \"strict\", \"coloraxis\": {\"colorbar\": {\"outlinewidth\": 0, \"ticks\": \"\"}}, \"colorscale\": {\"diverging\": [[0, \"#8e0152\"], [0.1, \"#c51b7d\"], [0.2, \"#de77ae\"], [0.3, \"#f1b6da\"], [0.4, \"#fde0ef\"], [0.5, \"#f7f7f7\"], [0.6, \"#e6f5d0\"], [0.7, \"#b8e186\"], [0.8, \"#7fbc41\"], [0.9, \"#4d9221\"], [1, \"#276419\"]], \"sequential\": [[0.0, \"#0d0887\"], [0.1111111111111111, \"#46039f\"], [0.2222222222222222, \"#7201a8\"], [0.3333333333333333, \"#9c179e\"], [0.4444444444444444, \"#bd3786\"], [0.5555555555555556, \"#d8576b\"], [0.6666666666666666, \"#ed7953\"], [0.7777777777777778, \"#fb9f3a\"], [0.8888888888888888, \"#fdca26\"], [1.0, \"#f0f921\"]], \"sequentialminus\": [[0.0, \"#0d0887\"], [0.1111111111111111, \"#46039f\"], [0.2222222222222222, \"#7201a8\"], [0.3333333333333333, \"#9c179e\"], [0.4444444444444444, \"#bd3786\"], [0.5555555555555556, \"#d8576b\"], [0.6666666666666666, \"#ed7953\"], [0.7777777777777778, \"#fb9f3a\"], [0.8888888888888888, \"#fdca26\"], [1.0, \"#f0f921\"]]}, \"colorway\": [\"#636efa\", \"#EF553B\", \"#00cc96\", \"#ab63fa\", \"#FFA15A\", \"#19d3f3\", \"#FF6692\", \"#B6E880\", \"#FF97FF\", \"#FECB52\"], \"font\": {\"color\": \"#2a3f5f\"}, \"geo\": {\"bgcolor\": \"white\", \"lakecolor\": \"white\", \"landcolor\": \"#E5ECF6\", \"showlakes\": true, \"showland\": true, \"subunitcolor\": \"white\"}, \"hoverlabel\": {\"align\": \"left\"}, \"hovermode\": \"closest\", \"mapbox\": {\"style\": \"light\"}, \"paper_bgcolor\": \"white\", \"plot_bgcolor\": \"#E5ECF6\", \"polar\": {\"angularaxis\": {\"gridcolor\": \"white\", \"linecolor\": \"white\", \"ticks\": \"\"}, \"bgcolor\": \"#E5ECF6\", \"radialaxis\": {\"gridcolor\": \"white\", \"linecolor\": \"white\", \"ticks\": \"\"}}, \"scene\": {\"xaxis\": {\"backgroundcolor\": \"#E5ECF6\", \"gridcolor\": \"white\", \"gridwidth\": 2, \"linecolor\": \"white\", \"showbackground\": true, \"ticks\": \"\", \"zerolinecolor\": \"white\"}, \"yaxis\": {\"backgroundcolor\": \"#E5ECF6\", \"gridcolor\": \"white\", \"gridwidth\": 2, \"linecolor\": \"white\", \"showbackground\": true, \"ticks\": \"\", \"zerolinecolor\": \"white\"}, \"zaxis\": {\"backgroundcolor\": \"#E5ECF6\", \"gridcolor\": \"white\", \"gridwidth\": 2, \"linecolor\": \"white\", \"showbackground\": true, \"ticks\": \"\", \"zerolinecolor\": \"white\"}}, \"shapedefaults\": {\"line\": {\"color\": \"#2a3f5f\"}}, \"ternary\": {\"aaxis\": {\"gridcolor\": \"white\", \"linecolor\": \"white\", \"ticks\": \"\"}, \"baxis\": {\"gridcolor\": \"white\", \"linecolor\": \"white\", \"ticks\": \"\"}, \"bgcolor\": \"#E5ECF6\", \"caxis\": {\"gridcolor\": \"white\", \"linecolor\": \"white\", \"ticks\": \"\"}}, \"title\": {\"x\": 0.05}, \"xaxis\": {\"automargin\": true, \"gridcolor\": \"white\", \"linecolor\": \"white\", \"ticks\": \"\", \"title\": {\"standoff\": 15}, \"zerolinecolor\": \"white\", \"zerolinewidth\": 2}, \"yaxis\": {\"automargin\": true, \"gridcolor\": \"white\", \"linecolor\": \"white\", \"ticks\": \"\", \"title\": {\"standoff\": 15}, \"zerolinecolor\": \"white\", \"zerolinewidth\": 2}}}, \"title\": {\"text\": \"World GDP 2019\"}},                        {\"responsive\": true}                    ).then(function(){\n",
       "                            \n",
       "var gd = document.getElementById('3a8f15dd-7f2d-4124-825c-f2af4823c972');\n",
       "var x = new MutationObserver(function (mutations, observer) {{\n",
       "        var display = window.getComputedStyle(gd).display;\n",
       "        if (!display || display === 'none') {{\n",
       "            console.log([gd, 'removed!']);\n",
       "            Plotly.purge(gd);\n",
       "            observer.disconnect();\n",
       "        }}\n",
       "}});\n",
       "\n",
       "// Listen for the removal of the full notebook cells\n",
       "var notebookContainer = gd.closest('#notebook-container');\n",
       "if (notebookContainer) {{\n",
       "    x.observe(notebookContainer, {childList: true});\n",
       "}}\n",
       "\n",
       "// Listen for the clearing of the current output cell\n",
       "var outputEl = gd.closest('.output');\n",
       "if (outputEl) {{\n",
       "    x.observe(outputEl, {childList: true});\n",
       "}}\n",
       "\n",
       "                        })                };                });            </script>        </div>"
      ]
     },
     "metadata": {},
     "output_type": "display_data"
    }
   ],
   "source": [
    "iplot(choro)"
   ]
  },
  {
   "cell_type": "code",
   "execution_count": 33,
   "id": "c325459d",
   "metadata": {},
   "outputs": [
    {
     "data": {
      "text/html": [
       "<div>\n",
       "<style scoped>\n",
       "    .dataframe tbody tr th:only-of-type {\n",
       "        vertical-align: middle;\n",
       "    }\n",
       "\n",
       "    .dataframe tbody tr th {\n",
       "        vertical-align: top;\n",
       "    }\n",
       "\n",
       "    .dataframe thead th {\n",
       "        text-align: right;\n",
       "    }\n",
       "</style>\n",
       "<table border=\"1\" class=\"dataframe\">\n",
       "  <thead>\n",
       "    <tr style=\"text-align: right;\">\n",
       "      <th></th>\n",
       "      <th>Country Name</th>\n",
       "      <th>2019</th>\n",
       "    </tr>\n",
       "  </thead>\n",
       "  <tbody>\n",
       "    <tr>\n",
       "      <th>185</th>\n",
       "      <td>United States</td>\n",
       "      <td>21433.226000</td>\n",
       "    </tr>\n",
       "    <tr>\n",
       "      <th>184</th>\n",
       "      <td>China</td>\n",
       "      <td>14279.937467</td>\n",
       "    </tr>\n",
       "    <tr>\n",
       "      <th>183</th>\n",
       "      <td>Japan</td>\n",
       "      <td>5081.769542</td>\n",
       "    </tr>\n",
       "    <tr>\n",
       "      <th>182</th>\n",
       "      <td>Germany</td>\n",
       "      <td>3861.123558</td>\n",
       "    </tr>\n",
       "    <tr>\n",
       "      <th>181</th>\n",
       "      <td>India</td>\n",
       "      <td>2868.929416</td>\n",
       "    </tr>\n",
       "    <tr>\n",
       "      <th>180</th>\n",
       "      <td>United Kingdom</td>\n",
       "      <td>2829.108219</td>\n",
       "    </tr>\n",
       "    <tr>\n",
       "      <th>179</th>\n",
       "      <td>France</td>\n",
       "      <td>2715.518274</td>\n",
       "    </tr>\n",
       "    <tr>\n",
       "      <th>178</th>\n",
       "      <td>Italy</td>\n",
       "      <td>2003.576145</td>\n",
       "    </tr>\n",
       "    <tr>\n",
       "      <th>177</th>\n",
       "      <td>Brazil</td>\n",
       "      <td>1839.758041</td>\n",
       "    </tr>\n",
       "    <tr>\n",
       "      <th>176</th>\n",
       "      <td>Canada</td>\n",
       "      <td>1736.425630</td>\n",
       "    </tr>\n",
       "    <tr>\n",
       "      <th>175</th>\n",
       "      <td>Russian Federation</td>\n",
       "      <td>1699.876579</td>\n",
       "    </tr>\n",
       "    <tr>\n",
       "      <th>174</th>\n",
       "      <td>Korea, Rep.</td>\n",
       "      <td>1646.739220</td>\n",
       "    </tr>\n",
       "    <tr>\n",
       "      <th>173</th>\n",
       "      <td>Australia</td>\n",
       "      <td>1396.567015</td>\n",
       "    </tr>\n",
       "  </tbody>\n",
       "</table>\n",
       "</div>"
      ],
      "text/plain": [
       "           Country Name          2019\n",
       "185       United States  21433.226000\n",
       "184               China  14279.937467\n",
       "183               Japan   5081.769542\n",
       "182             Germany   3861.123558\n",
       "181               India   2868.929416\n",
       "180      United Kingdom   2829.108219\n",
       "179              France   2715.518274\n",
       "178               Italy   2003.576145\n",
       "177              Brazil   1839.758041\n",
       "176              Canada   1736.425630\n",
       "175  Russian Federation   1699.876579\n",
       "174         Korea, Rep.   1646.739220\n",
       "173           Australia   1396.567015"
      ]
     },
     "execution_count": 33,
     "metadata": {},
     "output_type": "execute_result"
    }
   ],
   "source": [
    "pf.sort_values(by='2019',axis=0,ascending=False).head(13)[['Country Name','2019']]"
   ]
  },
  {
   "cell_type": "code",
   "execution_count": 35,
   "id": "a9ae689c",
   "metadata": {},
   "outputs": [
    {
     "data": {
      "application/vnd.plotly.v1+json": {
       "config": {
        "plotlyServerURL": "https://plot.ly"
       },
       "data": [
        {
         "colorbar": {
          "len": 0.75,
          "ticktext": [
           "1",
           "10",
           "100",
           "1000",
           "5000",
           "10000"
          ],
          "tickvals": [
           0,
           1,
           2,
           3,
           3.699,
           4
          ],
          "title": {
           "text": "World GDP 2019"
          },
          "x": 0.9
         },
         "colorscale": [
          [
           0,
           "rgb(22,200,150)"
          ],
          [
           1,
           "rgb(200,100,190)"
          ]
         ],
         "locations": [
          "TUV",
          "NRU",
          "KIR",
          "PLW",
          "STP",
          "TON",
          "DMA",
          "VCT",
          "WSM",
          "VUT",
          "KNA",
          "COM",
          "TCA",
          "GRD",
          "GNB",
          "SLB",
          "ATG",
          "SYC",
          "GMB",
          "BLZ",
          "CPV",
          "TLS",
          "LCA",
          "CAF",
          "LSO",
          "BTN",
          "BDI",
          "LBR",
          "CUW",
          "AND",
          "DJI",
          "SUR",
          "SLE",
          "SWZ",
          "GUY",
          "BRB",
          "TGO",
          "FJI",
          "MNE",
          "MDV",
          "BMU",
          "MRT",
          "MWI",
          "XKX",
          "TJK",
          "KGZ",
          "RWA",
          "GNQ",
          "TCD",
          "MDA",
          "COG",
          "GIN",
          "NAM",
          "NIC",
          "MKD",
          "NER",
          "BRN",
          "BHS",
          "ARM",
          "MNG",
          "MUS",
          "MDG",
          "HTI",
          "BEN",
          "MLT",
          "ALB",
          "MOZ",
          "BFA",
          "JAM",
          "GAB",
          "MLI",
          "GEO",
          "LAO",
          "BWA",
          "AFG",
          "BIH",
          "ZWE",
          "YEM",
          "ZMB",
          "SEN",
          "ISL",
          "TTO",
          "PNG",
          "CYP",
          "HND",
          "SLV",
          "KHM",
          "SDN",
          "NPL",
          "EST",
          "LVA",
          "UGA",
          "PRY",
          "BHR",
          "TUN",
          "CMR",
          "BOL",
          "JOR",
          "AZE",
          "COD",
          "SRB",
          "LBN",
          "LBY",
          "MAC",
          "SVN",
          "LTU",
          "URY",
          "UZB",
          "CIV",
          "HRV",
          "CRI",
          "BLR",
          "TZA",
          "PAN",
          "GHA",
          "BGR",
          "LUX",
          "MMR",
          "OMN",
          "GTM",
          "LKA",
          "AGO",
          "DOM",
          "KEN",
          "ETH",
          "PRI",
          "SVK",
          "ECU",
          "MAR",
          "KWT",
          "UKR",
          "HUN",
          "DZA",
          "QAT",
          "KAZ",
          "NZL",
          "GRC",
          "PER",
          "IRQ",
          "PRT",
          "ROU",
          "CZE",
          "VNM",
          "FIN",
          "PAK",
          "CHL",
          "BGD",
          "EGY",
          "COL",
          "DNK",
          "ZAF",
          "MYS",
          "HKG",
          "SGP",
          "PHL",
          "IRL",
          "ISR",
          "NOR",
          "ARE",
          "AUT",
          "ARG",
          "NGA",
          "SWE",
          "BEL",
          "THA",
          "POL",
          "CHE",
          "TUR",
          "SAU",
          "NLD",
          "IDN",
          "MEX",
          "ESP",
          "AUS",
          "KOR",
          "RUS",
          "CAN",
          "BRA",
          "ITA",
          "FRA",
          "GBR",
          "IND",
          "DEU",
          "JPN",
          "CHN",
          "USA",
          "ABW",
          "ASM",
          "CUB",
          "CYM",
          "ERI",
          "FRO",
          "FSM",
          "GIB",
          "GRL",
          "GUM",
          "IMN",
          "IRN",
          "LIE",
          "MAF",
          "MCO",
          "MHL",
          "MNP",
          "NCL",
          "PRK",
          "PSE",
          "PYF",
          "SMR",
          "SOM",
          "SSD",
          "SXM",
          "SYR",
          "TKM",
          "TMN",
          "VEN",
          "VGB",
          "VIR"
         ],
         "text": [
          [
           "Tuvalu",
           0.04727146333
          ],
          [
           "Nauru",
           0.1182234301
          ],
          [
           "Kiribati",
           0.1946472019
          ],
          [
           "Palau",
           0.2683549194
          ],
          [
           "Sao Tome and Principe",
           0.418637389
          ],
          [
           "Tonga",
           0.5123500594
          ],
          [
           "Dominica",
           0.5824037037
          ],
          [
           "St. Vincent and the Grenadines",
           0.8247185185
          ],
          [
           "Samoa",
           0.852250191
          ],
          [
           "Vanuatu",
           0.9342399737999999
          ],
          [
           "St. Kitts and Nevis",
           1.053244444
          ],
          [
           "Comoros",
           1.165839927
          ],
          [
           "Turks and Caicos Islands",
           1.197415
          ],
          [
           "Grenada",
           1.210603704
          ],
          [
           "Guinea-Bissau",
           1.339449165
          ],
          [
           "Solomon Islands",
           1.589913622
          ],
          [
           "Antigua and Barbuda",
           1.661962963
          ],
          [
           "Seychelles",
           1.703387387
          ],
          [
           "Gambia, The",
           1.82607374
          ],
          [
           "Belize",
           1.8796136
          ],
          [
           "Cabo Verde",
           1.98184574
          ],
          [
           "Timor-Leste",
           2.0179249
          ],
          [
           "St. Lucia",
           2.12245063
          ],
          [
           "Central African Republic",
           2.220307369
          ],
          [
           "Lesotho",
           2.376328637
          ],
          [
           "Bhutan",
           2.530547158
          ],
          [
           "Burundi",
           3.012334882
          ],
          [
           "Liberia",
           3.0705181
          ],
          [
           "Curacao",
           3.101787709
          ],
          [
           "Andorra",
           3.154057987
          ],
          [
           "Djibouti",
           3.324634256
          ],
          [
           "Suriname",
           3.69737195
          ],
          [
           "Sierra Leone",
           4.121733705
          ],
          [
           "Eswatini",
           4.471598727
          ],
          [
           "Guyana",
           5.173759528
          ],
          [
           "Barbados",
           5.209
          ],
          [
           "Togo",
           5.490272413
          ],
          [
           "Fiji",
           5.496250694
          ],
          [
           "Montenegro",
           5.542577965
          ],
          [
           "Maldives",
           5.64217917
          ],
          [
           "Bermuda",
           7.484113
          ],
          [
           "Mauritania",
           7.600656944
          ],
          [
           "Malawi",
           7.666704427
          ],
          [
           "Kosovo",
           7.926133714
          ],
          [
           "Tajikistan",
           8.116626794
          ],
          [
           "Kyrgyz Republic",
           8.454619608
          ],
          [
           "Rwanda",
           10.354417725
          ],
          [
           "Equatorial Guinea",
           11.026774945
          ],
          [
           "Chad",
           11.314951343
          ],
          [
           "Moldova",
           11.96871337
          ],
          [
           "Congo, Rep.",
           12.267392147
          ],
          [
           "Guinea",
           12.296665331
          ],
          [
           "Namibia",
           12.366528259
          ],
          [
           "Nicaragua",
           12.520915291
          ],
          [
           "North Macedonia",
           12.547040499
          ],
          [
           "Niger",
           12.911689659
          ],
          [
           "Brunei Darussalam",
           13.469422959
          ],
          [
           "Bahamas, The",
           13.5788
          ],
          [
           "Armenia",
           13.672802158
          ],
          [
           "Mongolia",
           13.996719329
          ],
          [
           "Mauritius",
           14.048430519
          ],
          [
           "Madagascar",
           14.114631281
          ],
          [
           "Haiti",
           14.332163266
          ],
          [
           "Benin",
           14.390709095
          ],
          [
           "Malta",
           14.989415684
          ],
          [
           "Albania",
           15.27918329
          ],
          [
           "Mozambique",
           15.291448212
          ],
          [
           "Burkina Faso",
           15.99080357
          ],
          [
           "Jamaica",
           16.458071068
          ],
          [
           "Gabon",
           16.874450215
          ],
          [
           "Mali",
           17.279566719
          ],
          [
           "Georgia",
           17.477255546
          ],
          [
           "Lao PDR",
           18.173839147
          ],
          [
           "Botswana",
           18.340480936
          ],
          [
           "Afghanistan",
           19.291104008
          ],
          [
           "Bosnia and Herzegovina",
           20.164193807
          ],
          [
           "Zimbabwe",
           21.4407588
          ],
          [
           "Yemen, Rep.",
           22.581081994
          ],
          [
           "Zambia",
           23.309773923
          ],
          [
           "Senegal",
           23.578084052
          ],
          [
           "Iceland",
           24.188038474
          ],
          [
           "Trinidad and Tobago",
           24.26971481
          ],
          [
           "Papua New Guinea",
           24.829107011
          ],
          [
           "Cyprus",
           24.948935408
          ],
          [
           "Honduras",
           25.095395475
          ],
          [
           "El Salvador",
           27.02264
          ],
          [
           "Cambodia",
           27.089389787
          ],
          [
           "Sudan",
           30.513456085
          ],
          [
           "Nepal",
           30.641380604
          ],
          [
           "Estonia",
           31.471100656
          ],
          [
           "Latvia",
           34.102913582
          ],
          [
           "Uganda",
           35.165157017
          ],
          [
           "Paraguay",
           38.14528894
          ],
          [
           "Bahrain",
           38.574069149
          ],
          [
           "Tunisia",
           38.796687568
          ],
          [
           "Cameroon",
           39.007354359
          ],
          [
           "Bolivia",
           40.895322844
          ],
          [
           "Jordan",
           44.502895862
          ],
          [
           "Azerbaijan",
           48.047647059
          ],
          [
           "Congo, Dem. Rep.",
           50.400746171
          ],
          [
           "Serbia",
           51.475016532
          ],
          [
           "Lebanon",
           51.991634492
          ],
          [
           "Libya",
           52.091152228
          ],
          [
           "Macao SAR, China",
           53.859116536
          ],
          [
           "Slovenia",
           54.174227309
          ],
          [
           "Lithuania",
           54.62741186
          ],
          [
           "Uruguay",
           56.045912953
          ],
          [
           "Uzbekistan",
           57.92128644
          ],
          [
           "Cote d'Ivoire",
           58.53942493
          ],
          [
           "Croatia",
           60.752588976
          ],
          [
           "Costa Rica",
           61.801385049
          ],
          [
           "Belarus",
           63.080457023
          ],
          [
           "Tanzania",
           63.177068175
          ],
          [
           "Panama",
           66.8008
          ],
          [
           "Ghana",
           66.983634224
          ],
          [
           "Bulgaria",
           68.558815112
          ],
          [
           "Luxembourg",
           71.104919108
          ],
          [
           "Myanmar",
           76.085852617
          ],
          [
           "Oman",
           76.331518669
          ],
          [
           "Guatemala",
           76.710355347
          ],
          [
           "Sri Lanka",
           84.008783756
          ],
          [
           "Angola",
           88.815697793
          ],
          [
           "Dominican Republic",
           88.941299734
          ],
          [
           "Kenya",
           95.503088538
          ],
          [
           "Ethiopia",
           95.912590628
          ],
          [
           "Puerto Rico",
           104.9886
          ],
          [
           "Slovak Republic",
           105.07967301
          ],
          [
           "Ecuador",
           107.435665
          ],
          [
           "Morocco",
           119.700325462
          ],
          [
           "Kuwait",
           134.628542747
          ],
          [
           "Ukraine",
           153.781069118
          ],
          [
           "Hungary",
           163.469042868
          ],
          [
           "Algeria",
           171.091289782
          ],
          [
           "Qatar",
           175.837550996
          ],
          [
           "Kazakhstan",
           181.665908556
          ],
          [
           "New Zealand",
           206.928765544
          ],
          [
           "Greece",
           209.852761133
          ],
          [
           "Peru",
           226.84805082
          ],
          [
           "Iraq",
           234.094042939
          ],
          [
           "Portugal",
           238.785085031
          ],
          [
           "Romania",
           250.077444017
          ],
          [
           "Czech Republic",
           250.68050453
          ],
          [
           "Vietnam",
           261.921244843
          ],
          [
           "Finland",
           269.29631018
          ],
          [
           "Pakistan",
           278.221906023
          ],
          [
           "Chile",
           282.318159745
          ],
          [
           "Bangladesh",
           302.571254131
          ],
          [
           "Egypt, Arab Rep.",
           303.092255125
          ],
          [
           "Colombia",
           323.615979419
          ],
          [
           "Denmark",
           350.104327659
          ],
          [
           "South Africa",
           351.431649241
          ],
          [
           "Malaysia",
           364.681367532
          ],
          [
           "Hong Kong SAR, China",
           365.711532817
          ],
          [
           "Singapore",
           372.062527489
          ],
          [
           "Philippines",
           376.795508679
          ],
          [
           "Ireland",
           388.698711348
          ],
          [
           "Israel",
           394.652210296
          ],
          [
           "Norway",
           403.336363636
          ],
          [
           "United Arab Emirates",
           421.142267938
          ],
          [
           "Austria",
           445.075391688
          ],
          [
           "Argentina",
           445.445177459
          ],
          [
           "Nigeria",
           448.120428859
          ],
          [
           "Sweden",
           530.883869005
          ],
          [
           "Belgium",
           533.097455835
          ],
          [
           "Thailand",
           543.548969969
          ],
          [
           "Poland",
           595.858207012
          ],
          [
           "Switzerland",
           703.082435159
          ],
          [
           "Turkey",
           761.425499358
          ],
          [
           "Saudi Arabia",
           792.966838162
          ],
          [
           "Netherlands",
           907.050863145
          ],
          [
           "Indonesia",
           1119.190780753
          ],
          [
           "Mexico",
           1268.87052716
          ],
          [
           "Spain",
           1393.490524518
          ],
          [
           "Australia",
           1396.567014733
          ],
          [
           "Korea, Rep.",
           1646.73921951
          ],
          [
           "Russian Federation",
           1699.876578871
          ],
          [
           "Canada",
           1736.42562952
          ],
          [
           "Brazil",
           1839.758040766
          ],
          [
           "Italy",
           2003.576145498
          ],
          [
           "France",
           2715.518274227
          ],
          [
           "United Kingdom",
           2829.108219166
          ],
          [
           "India",
           2868.929415617
          ],
          [
           "Germany",
           3861.123558039
          ],
          [
           "Japan",
           5081.76954238
          ],
          [
           "China",
           14279.937467431
          ],
          [
           "United States",
           21433.226
          ],
          [
           "Aruba",
           null
          ],
          [
           "American Samoa",
           null
          ],
          [
           "Cuba",
           null
          ],
          [
           "Cayman Islands",
           null
          ],
          [
           "Eritrea",
           null
          ],
          [
           "Faroe Islands",
           null
          ],
          [
           "Micronesia, Fed. Sts.",
           null
          ],
          [
           "Gibraltar",
           null
          ],
          [
           "Greenland",
           null
          ],
          [
           "Guam",
           null
          ],
          [
           "Isle of Man",
           null
          ],
          [
           "Iran, Islamic Rep.",
           null
          ],
          [
           "Liechtenstein",
           null
          ],
          [
           "St. Martin (French part)",
           null
          ],
          [
           "Monaco",
           null
          ],
          [
           "Marshall Islands",
           null
          ],
          [
           "Northern Mariana Islands",
           null
          ],
          [
           "New Caledonia",
           null
          ],
          [
           "Korea, Dem. People's Rep.",
           null
          ],
          [
           "West Bank and Gaza",
           null
          ],
          [
           "French Polynesia",
           null
          ],
          [
           "San Marino",
           null
          ],
          [
           "Somalia",
           null
          ],
          [
           "South Sudan",
           null
          ],
          [
           "Sint Maarten (Dutch part)",
           null
          ],
          [
           "Syrian Arab Republic",
           null
          ],
          [
           "Turkmenistan",
           null
          ],
          [
           "Middle East & North Africa (IDA & IBRD countries)",
           null
          ],
          [
           "Venezuela, RB",
           null
          ],
          [
           "British Virgin Islands",
           null
          ],
          [
           "Virgin Islands (U.S.)",
           null
          ]
         ],
         "type": "choropleth",
         "z": [
          -1.3254009535187992,
          -0.9272964443113431,
          -0.7107518349878134,
          -0.5712904389508544,
          -0.3781619869116846,
          -0.2904332091069325,
          -0.2347758718623301,
          -0.08369425353670154,
          -0.06943289276819796,
          -0.029541554272223207,
          0.02252917684563996,
          0.0666389247000578,
          0.0782446942442955,
          0.08300199835920301,
          0.12692623583976773,
          0.20137353029040772,
          0.22062134126280192,
          0.2313134271195627,
          0.26151831111091817,
          0.27406857871289864,
          0.29706984748830223,
          0.30490499930302245,
          0.3268375969758541,
          0.3464131003156872,
          0.37590650169889583,
          0.40321443501305176,
          0.4789032508355134,
          0.4872116617921012,
          0.4916120707294141,
          0.49886967352129985,
          0.5217438754022152,
          0.5678931421357635,
          0.6150799296593701,
          0.6504628238433119,
          0.7138062392066445,
          0.7167543574326971,
          0.7395938935443717,
          0.7400665334652158,
          0.7437118108584492,
          0.7514468732597628,
          0.8741403361376955,
          0.8808511310734038,
          0.8846087203062805,
          0.8990613946146885,
          0.909375577378632,
          0.9270940725058588,
          1.0151256816042113,
          1.0424485107725572,
          1.0536526907245043,
          1.0780474665014612,
          1.0887522484203336,
          1.0897873533339753,
          1.092247794246683,
          1.0976360773809006,
          1.0985412997991768,
          1.1109830789483521,
          1.1293489905938,
          1.1328613917113781,
          1.1358575297136766,
          1.146026253944313,
          1.1476278078701931,
          1.1496695374798462,
          1.1563117468230584,
          1.1580821941074413,
          1.1757847035513782,
          1.1841001407497664,
          1.1844486182243659,
          1.203870288464687,
          1.2163789333298671,
          1.2272296320226868,
          1.2375328484492072,
          1.2424732363758852,
          1.2594466798802804,
          1.2634107198352231,
          1.2853570825356684,
          1.3045808629828437,
          1.3312401512083003,
          1.353744747720283,
          1.3675380614026138,
          1.3725085115542097,
          1.3836006507323417,
          1.3850646730286384,
          1.3949611002565752,
          1.3970520186449682,
          1.399594044060989,
          1.431727775530735,
          1.4327992222674435,
          1.484491400485369,
          1.4863083293414705,
          1.497911931997057,
          1.5327914845212642,
          1.5461125609351045,
          1.581440908904279,
          1.5862954546747716,
          1.5887946474408674,
          1.5911464956527022,
          1.6116736410343808,
          1.6483882720139063,
          1.681672124693157,
          1.7024369661191174,
          1.7115964947705007,
          1.7159334708226581,
          1.7167639638970453,
          1.7312592252974195,
          1.7337927256618015,
          1.737410624978306,
          1.7485439479447924,
          1.7628381990383468,
          1.7674484517678375,
          1.7835647901556586,
          1.7909982082991298,
          1.7998948311668208,
          1.800559467960978,
          1.824781663575921,
          1.8259687066647639,
          1.8360633031571658,
          1.8518996466870306,
          1.881303911677881,
          1.8827039030603,
          1.884853994542163,
          1.9243246972205055,
          1.9484897322466601,
          1.949103471674415,
          1.980017416749413,
          1.9818756215747133,
          2.0211421445377535,
          2.0215187126658636,
          2.031148476349405,
          2.0780953312431567,
          2.1291371449056937,
          2.186902875884014,
          2.213435519781886,
          2.233227900272236,
          2.245111626419668,
          2.2592734352048724,
          2.3158208669280365,
          2.3219146878050108,
          2.3557350519654694,
          2.3693903622158983,
          2.378007196448,
          2.3980745218755857,
          2.3991205601079337,
          2.4181707261605703,
          2.4302304028751442,
          2.444391321523628,
          2.450738814467822,
          2.4808276653748855,
          2.481574839041824,
          2.510029957940722,
          2.544197479136375,
          2.545840870624775,
          2.5619135747073853,
          2.5631386561537637,
          2.5706159319826973,
          2.5761057174553628,
          2.5896131008180934,
          2.596214539465388,
          2.6056673785028606,
          2.6244288315675397,
          2.648433582713088,
          2.648794261477007,
          2.6513947429277747,
          2.7249995294312903,
          2.726806609894206,
          2.735238677087015,
          2.775142925447299,
          2.84700624825706,
          2.8816274167980716,
          2.899255025521394,
          2.9576316409342454,
          3.0489041240314925,
          3.103417309873561,
          3.144104019935913,
          3.145061780302295,
          3.2166248289845734,
          3.230417390165858,
          3.239656187369936,
          3.264760709710695,
          3.3018058523545406,
          3.4338527297466697,
          3.4516495604254303,
          3.457719863413256,
          3.5867136995043754,
          3.7060149659599038,
          4.1547263056468,
          4.331087543349609,
          null,
          null,
          null,
          null,
          null,
          null,
          null,
          null,
          null,
          null,
          null,
          null,
          null,
          null,
          null,
          null,
          null,
          null,
          null,
          null,
          null,
          null,
          null,
          null,
          null,
          null,
          null,
          null,
          null,
          null,
          null
         ]
        }
       ],
       "layout": {
        "geo": {
         "projection": {
          "type": "natural earth"
         },
         "showframe": false
        },
        "template": {
         "data": {
          "bar": [
           {
            "error_x": {
             "color": "#2a3f5f"
            },
            "error_y": {
             "color": "#2a3f5f"
            },
            "marker": {
             "line": {
              "color": "#E5ECF6",
              "width": 0.5
             }
            },
            "type": "bar"
           }
          ],
          "barpolar": [
           {
            "marker": {
             "line": {
              "color": "#E5ECF6",
              "width": 0.5
             }
            },
            "type": "barpolar"
           }
          ],
          "carpet": [
           {
            "aaxis": {
             "endlinecolor": "#2a3f5f",
             "gridcolor": "white",
             "linecolor": "white",
             "minorgridcolor": "white",
             "startlinecolor": "#2a3f5f"
            },
            "baxis": {
             "endlinecolor": "#2a3f5f",
             "gridcolor": "white",
             "linecolor": "white",
             "minorgridcolor": "white",
             "startlinecolor": "#2a3f5f"
            },
            "type": "carpet"
           }
          ],
          "choropleth": [
           {
            "colorbar": {
             "outlinewidth": 0,
             "ticks": ""
            },
            "type": "choropleth"
           }
          ],
          "contour": [
           {
            "colorbar": {
             "outlinewidth": 0,
             "ticks": ""
            },
            "colorscale": [
             [
              0,
              "#0d0887"
             ],
             [
              0.1111111111111111,
              "#46039f"
             ],
             [
              0.2222222222222222,
              "#7201a8"
             ],
             [
              0.3333333333333333,
              "#9c179e"
             ],
             [
              0.4444444444444444,
              "#bd3786"
             ],
             [
              0.5555555555555556,
              "#d8576b"
             ],
             [
              0.6666666666666666,
              "#ed7953"
             ],
             [
              0.7777777777777778,
              "#fb9f3a"
             ],
             [
              0.8888888888888888,
              "#fdca26"
             ],
             [
              1,
              "#f0f921"
             ]
            ],
            "type": "contour"
           }
          ],
          "contourcarpet": [
           {
            "colorbar": {
             "outlinewidth": 0,
             "ticks": ""
            },
            "type": "contourcarpet"
           }
          ],
          "heatmap": [
           {
            "colorbar": {
             "outlinewidth": 0,
             "ticks": ""
            },
            "colorscale": [
             [
              0,
              "#0d0887"
             ],
             [
              0.1111111111111111,
              "#46039f"
             ],
             [
              0.2222222222222222,
              "#7201a8"
             ],
             [
              0.3333333333333333,
              "#9c179e"
             ],
             [
              0.4444444444444444,
              "#bd3786"
             ],
             [
              0.5555555555555556,
              "#d8576b"
             ],
             [
              0.6666666666666666,
              "#ed7953"
             ],
             [
              0.7777777777777778,
              "#fb9f3a"
             ],
             [
              0.8888888888888888,
              "#fdca26"
             ],
             [
              1,
              "#f0f921"
             ]
            ],
            "type": "heatmap"
           }
          ],
          "heatmapgl": [
           {
            "colorbar": {
             "outlinewidth": 0,
             "ticks": ""
            },
            "colorscale": [
             [
              0,
              "#0d0887"
             ],
             [
              0.1111111111111111,
              "#46039f"
             ],
             [
              0.2222222222222222,
              "#7201a8"
             ],
             [
              0.3333333333333333,
              "#9c179e"
             ],
             [
              0.4444444444444444,
              "#bd3786"
             ],
             [
              0.5555555555555556,
              "#d8576b"
             ],
             [
              0.6666666666666666,
              "#ed7953"
             ],
             [
              0.7777777777777778,
              "#fb9f3a"
             ],
             [
              0.8888888888888888,
              "#fdca26"
             ],
             [
              1,
              "#f0f921"
             ]
            ],
            "type": "heatmapgl"
           }
          ],
          "histogram": [
           {
            "marker": {
             "colorbar": {
              "outlinewidth": 0,
              "ticks": ""
             }
            },
            "type": "histogram"
           }
          ],
          "histogram2d": [
           {
            "colorbar": {
             "outlinewidth": 0,
             "ticks": ""
            },
            "colorscale": [
             [
              0,
              "#0d0887"
             ],
             [
              0.1111111111111111,
              "#46039f"
             ],
             [
              0.2222222222222222,
              "#7201a8"
             ],
             [
              0.3333333333333333,
              "#9c179e"
             ],
             [
              0.4444444444444444,
              "#bd3786"
             ],
             [
              0.5555555555555556,
              "#d8576b"
             ],
             [
              0.6666666666666666,
              "#ed7953"
             ],
             [
              0.7777777777777778,
              "#fb9f3a"
             ],
             [
              0.8888888888888888,
              "#fdca26"
             ],
             [
              1,
              "#f0f921"
             ]
            ],
            "type": "histogram2d"
           }
          ],
          "histogram2dcontour": [
           {
            "colorbar": {
             "outlinewidth": 0,
             "ticks": ""
            },
            "colorscale": [
             [
              0,
              "#0d0887"
             ],
             [
              0.1111111111111111,
              "#46039f"
             ],
             [
              0.2222222222222222,
              "#7201a8"
             ],
             [
              0.3333333333333333,
              "#9c179e"
             ],
             [
              0.4444444444444444,
              "#bd3786"
             ],
             [
              0.5555555555555556,
              "#d8576b"
             ],
             [
              0.6666666666666666,
              "#ed7953"
             ],
             [
              0.7777777777777778,
              "#fb9f3a"
             ],
             [
              0.8888888888888888,
              "#fdca26"
             ],
             [
              1,
              "#f0f921"
             ]
            ],
            "type": "histogram2dcontour"
           }
          ],
          "mesh3d": [
           {
            "colorbar": {
             "outlinewidth": 0,
             "ticks": ""
            },
            "type": "mesh3d"
           }
          ],
          "parcoords": [
           {
            "line": {
             "colorbar": {
              "outlinewidth": 0,
              "ticks": ""
             }
            },
            "type": "parcoords"
           }
          ],
          "pie": [
           {
            "automargin": true,
            "type": "pie"
           }
          ],
          "scatter": [
           {
            "marker": {
             "colorbar": {
              "outlinewidth": 0,
              "ticks": ""
             }
            },
            "type": "scatter"
           }
          ],
          "scatter3d": [
           {
            "line": {
             "colorbar": {
              "outlinewidth": 0,
              "ticks": ""
             }
            },
            "marker": {
             "colorbar": {
              "outlinewidth": 0,
              "ticks": ""
             }
            },
            "type": "scatter3d"
           }
          ],
          "scattercarpet": [
           {
            "marker": {
             "colorbar": {
              "outlinewidth": 0,
              "ticks": ""
             }
            },
            "type": "scattercarpet"
           }
          ],
          "scattergeo": [
           {
            "marker": {
             "colorbar": {
              "outlinewidth": 0,
              "ticks": ""
             }
            },
            "type": "scattergeo"
           }
          ],
          "scattergl": [
           {
            "marker": {
             "colorbar": {
              "outlinewidth": 0,
              "ticks": ""
             }
            },
            "type": "scattergl"
           }
          ],
          "scattermapbox": [
           {
            "marker": {
             "colorbar": {
              "outlinewidth": 0,
              "ticks": ""
             }
            },
            "type": "scattermapbox"
           }
          ],
          "scatterpolar": [
           {
            "marker": {
             "colorbar": {
              "outlinewidth": 0,
              "ticks": ""
             }
            },
            "type": "scatterpolar"
           }
          ],
          "scatterpolargl": [
           {
            "marker": {
             "colorbar": {
              "outlinewidth": 0,
              "ticks": ""
             }
            },
            "type": "scatterpolargl"
           }
          ],
          "scatterternary": [
           {
            "marker": {
             "colorbar": {
              "outlinewidth": 0,
              "ticks": ""
             }
            },
            "type": "scatterternary"
           }
          ],
          "surface": [
           {
            "colorbar": {
             "outlinewidth": 0,
             "ticks": ""
            },
            "colorscale": [
             [
              0,
              "#0d0887"
             ],
             [
              0.1111111111111111,
              "#46039f"
             ],
             [
              0.2222222222222222,
              "#7201a8"
             ],
             [
              0.3333333333333333,
              "#9c179e"
             ],
             [
              0.4444444444444444,
              "#bd3786"
             ],
             [
              0.5555555555555556,
              "#d8576b"
             ],
             [
              0.6666666666666666,
              "#ed7953"
             ],
             [
              0.7777777777777778,
              "#fb9f3a"
             ],
             [
              0.8888888888888888,
              "#fdca26"
             ],
             [
              1,
              "#f0f921"
             ]
            ],
            "type": "surface"
           }
          ],
          "table": [
           {
            "cells": {
             "fill": {
              "color": "#EBF0F8"
             },
             "line": {
              "color": "white"
             }
            },
            "header": {
             "fill": {
              "color": "#C8D4E3"
             },
             "line": {
              "color": "white"
             }
            },
            "type": "table"
           }
          ]
         },
         "layout": {
          "annotationdefaults": {
           "arrowcolor": "#2a3f5f",
           "arrowhead": 0,
           "arrowwidth": 1
          },
          "autotypenumbers": "strict",
          "coloraxis": {
           "colorbar": {
            "outlinewidth": 0,
            "ticks": ""
           }
          },
          "colorscale": {
           "diverging": [
            [
             0,
             "#8e0152"
            ],
            [
             0.1,
             "#c51b7d"
            ],
            [
             0.2,
             "#de77ae"
            ],
            [
             0.3,
             "#f1b6da"
            ],
            [
             0.4,
             "#fde0ef"
            ],
            [
             0.5,
             "#f7f7f7"
            ],
            [
             0.6,
             "#e6f5d0"
            ],
            [
             0.7,
             "#b8e186"
            ],
            [
             0.8,
             "#7fbc41"
            ],
            [
             0.9,
             "#4d9221"
            ],
            [
             1,
             "#276419"
            ]
           ],
           "sequential": [
            [
             0,
             "#0d0887"
            ],
            [
             0.1111111111111111,
             "#46039f"
            ],
            [
             0.2222222222222222,
             "#7201a8"
            ],
            [
             0.3333333333333333,
             "#9c179e"
            ],
            [
             0.4444444444444444,
             "#bd3786"
            ],
            [
             0.5555555555555556,
             "#d8576b"
            ],
            [
             0.6666666666666666,
             "#ed7953"
            ],
            [
             0.7777777777777778,
             "#fb9f3a"
            ],
            [
             0.8888888888888888,
             "#fdca26"
            ],
            [
             1,
             "#f0f921"
            ]
           ],
           "sequentialminus": [
            [
             0,
             "#0d0887"
            ],
            [
             0.1111111111111111,
             "#46039f"
            ],
            [
             0.2222222222222222,
             "#7201a8"
            ],
            [
             0.3333333333333333,
             "#9c179e"
            ],
            [
             0.4444444444444444,
             "#bd3786"
            ],
            [
             0.5555555555555556,
             "#d8576b"
            ],
            [
             0.6666666666666666,
             "#ed7953"
            ],
            [
             0.7777777777777778,
             "#fb9f3a"
            ],
            [
             0.8888888888888888,
             "#fdca26"
            ],
            [
             1,
             "#f0f921"
            ]
           ]
          },
          "colorway": [
           "#636efa",
           "#EF553B",
           "#00cc96",
           "#ab63fa",
           "#FFA15A",
           "#19d3f3",
           "#FF6692",
           "#B6E880",
           "#FF97FF",
           "#FECB52"
          ],
          "font": {
           "color": "#2a3f5f"
          },
          "geo": {
           "bgcolor": "white",
           "lakecolor": "white",
           "landcolor": "#E5ECF6",
           "showlakes": true,
           "showland": true,
           "subunitcolor": "white"
          },
          "hoverlabel": {
           "align": "left"
          },
          "hovermode": "closest",
          "mapbox": {
           "style": "light"
          },
          "paper_bgcolor": "white",
          "plot_bgcolor": "#E5ECF6",
          "polar": {
           "angularaxis": {
            "gridcolor": "white",
            "linecolor": "white",
            "ticks": ""
           },
           "bgcolor": "#E5ECF6",
           "radialaxis": {
            "gridcolor": "white",
            "linecolor": "white",
            "ticks": ""
           }
          },
          "scene": {
           "xaxis": {
            "backgroundcolor": "#E5ECF6",
            "gridcolor": "white",
            "gridwidth": 2,
            "linecolor": "white",
            "showbackground": true,
            "ticks": "",
            "zerolinecolor": "white"
           },
           "yaxis": {
            "backgroundcolor": "#E5ECF6",
            "gridcolor": "white",
            "gridwidth": 2,
            "linecolor": "white",
            "showbackground": true,
            "ticks": "",
            "zerolinecolor": "white"
           },
           "zaxis": {
            "backgroundcolor": "#E5ECF6",
            "gridcolor": "white",
            "gridwidth": 2,
            "linecolor": "white",
            "showbackground": true,
            "ticks": "",
            "zerolinecolor": "white"
           }
          },
          "shapedefaults": {
           "line": {
            "color": "#2a3f5f"
           }
          },
          "ternary": {
           "aaxis": {
            "gridcolor": "white",
            "linecolor": "white",
            "ticks": ""
           },
           "baxis": {
            "gridcolor": "white",
            "linecolor": "white",
            "ticks": ""
           },
           "bgcolor": "#E5ECF6",
           "caxis": {
            "gridcolor": "white",
            "linecolor": "white",
            "ticks": ""
           }
          },
          "title": {
           "x": 0.05
          },
          "xaxis": {
           "automargin": true,
           "gridcolor": "white",
           "linecolor": "white",
           "ticks": "",
           "title": {
            "standoff": 15
           },
           "zerolinecolor": "white",
           "zerolinewidth": 2
          },
          "yaxis": {
           "automargin": true,
           "gridcolor": "white",
           "linecolor": "white",
           "ticks": "",
           "title": {
            "standoff": 15
           },
           "zerolinecolor": "white",
           "zerolinewidth": 2
          }
         }
        },
        "title": {
         "text": "Current World GDP"
        }
       }
      },
      "text/html": [
       "<div>                            <div id=\"cfbdae8d-8f92-4faa-8744-c8a896554733\" class=\"plotly-graph-div\" style=\"height:525px; width:100%;\"></div>            <script type=\"text/javascript\">                require([\"plotly\"], function(Plotly) {                    window.PLOTLYENV=window.PLOTLYENV || {};                                    if (document.getElementById(\"cfbdae8d-8f92-4faa-8744-c8a896554733\")) {                    Plotly.newPlot(                        \"cfbdae8d-8f92-4faa-8744-c8a896554733\",                        [{\"colorbar\": {\"len\": 0.75, \"ticktext\": [\"1\", \"10\", \"100\", \"1000\", \"5000\", \"10000\"], \"tickvals\": [0, 1, 2, 3, 3.699, 4], \"title\": {\"text\": \"World GDP 2019\"}, \"x\": 0.9}, \"colorscale\": [[0, \"rgb(22,200,150)\"], [1, \"rgb(200,100,190)\"]], \"locations\": [\"TUV\", \"NRU\", \"KIR\", \"PLW\", \"STP\", \"TON\", \"DMA\", \"VCT\", \"WSM\", \"VUT\", \"KNA\", \"COM\", \"TCA\", \"GRD\", \"GNB\", \"SLB\", \"ATG\", \"SYC\", \"GMB\", \"BLZ\", \"CPV\", \"TLS\", \"LCA\", \"CAF\", \"LSO\", \"BTN\", \"BDI\", \"LBR\", \"CUW\", \"AND\", \"DJI\", \"SUR\", \"SLE\", \"SWZ\", \"GUY\", \"BRB\", \"TGO\", \"FJI\", \"MNE\", \"MDV\", \"BMU\", \"MRT\", \"MWI\", \"XKX\", \"TJK\", \"KGZ\", \"RWA\", \"GNQ\", \"TCD\", \"MDA\", \"COG\", \"GIN\", \"NAM\", \"NIC\", \"MKD\", \"NER\", \"BRN\", \"BHS\", \"ARM\", \"MNG\", \"MUS\", \"MDG\", \"HTI\", \"BEN\", \"MLT\", \"ALB\", \"MOZ\", \"BFA\", \"JAM\", \"GAB\", \"MLI\", \"GEO\", \"LAO\", \"BWA\", \"AFG\", \"BIH\", \"ZWE\", \"YEM\", \"ZMB\", \"SEN\", \"ISL\", \"TTO\", \"PNG\", \"CYP\", \"HND\", \"SLV\", \"KHM\", \"SDN\", \"NPL\", \"EST\", \"LVA\", \"UGA\", \"PRY\", \"BHR\", \"TUN\", \"CMR\", \"BOL\", \"JOR\", \"AZE\", \"COD\", \"SRB\", \"LBN\", \"LBY\", \"MAC\", \"SVN\", \"LTU\", \"URY\", \"UZB\", \"CIV\", \"HRV\", \"CRI\", \"BLR\", \"TZA\", \"PAN\", \"GHA\", \"BGR\", \"LUX\", \"MMR\", \"OMN\", \"GTM\", \"LKA\", \"AGO\", \"DOM\", \"KEN\", \"ETH\", \"PRI\", \"SVK\", \"ECU\", \"MAR\", \"KWT\", \"UKR\", \"HUN\", \"DZA\", \"QAT\", \"KAZ\", \"NZL\", \"GRC\", \"PER\", \"IRQ\", \"PRT\", \"ROU\", \"CZE\", \"VNM\", \"FIN\", \"PAK\", \"CHL\", \"BGD\", \"EGY\", \"COL\", \"DNK\", \"ZAF\", \"MYS\", \"HKG\", \"SGP\", \"PHL\", \"IRL\", \"ISR\", \"NOR\", \"ARE\", \"AUT\", \"ARG\", \"NGA\", \"SWE\", \"BEL\", \"THA\", \"POL\", \"CHE\", \"TUR\", \"SAU\", \"NLD\", \"IDN\", \"MEX\", \"ESP\", \"AUS\", \"KOR\", \"RUS\", \"CAN\", \"BRA\", \"ITA\", \"FRA\", \"GBR\", \"IND\", \"DEU\", \"JPN\", \"CHN\", \"USA\", \"ABW\", \"ASM\", \"CUB\", \"CYM\", \"ERI\", \"FRO\", \"FSM\", \"GIB\", \"GRL\", \"GUM\", \"IMN\", \"IRN\", \"LIE\", \"MAF\", \"MCO\", \"MHL\", \"MNP\", \"NCL\", \"PRK\", \"PSE\", \"PYF\", \"SMR\", \"SOM\", \"SSD\", \"SXM\", \"SYR\", \"TKM\", \"TMN\", \"VEN\", \"VGB\", \"VIR\"], \"text\": [[\"Tuvalu\", 0.04727146333], [\"Nauru\", 0.1182234301], [\"Kiribati\", 0.1946472019], [\"Palau\", 0.2683549194], [\"Sao Tome and Principe\", 0.418637389], [\"Tonga\", 0.5123500594], [\"Dominica\", 0.5824037037], [\"St. Vincent and the Grenadines\", 0.8247185185], [\"Samoa\", 0.852250191], [\"Vanuatu\", 0.9342399737999999], [\"St. Kitts and Nevis\", 1.053244444], [\"Comoros\", 1.165839927], [\"Turks and Caicos Islands\", 1.197415], [\"Grenada\", 1.210603704], [\"Guinea-Bissau\", 1.339449165], [\"Solomon Islands\", 1.589913622], [\"Antigua and Barbuda\", 1.661962963], [\"Seychelles\", 1.703387387], [\"Gambia, The\", 1.82607374], [\"Belize\", 1.8796136], [\"Cabo Verde\", 1.98184574], [\"Timor-Leste\", 2.0179249], [\"St. Lucia\", 2.12245063], [\"Central African Republic\", 2.220307369], [\"Lesotho\", 2.376328637], [\"Bhutan\", 2.530547158], [\"Burundi\", 3.012334882], [\"Liberia\", 3.0705181], [\"Curacao\", 3.101787709], [\"Andorra\", 3.154057987], [\"Djibouti\", 3.324634256], [\"Suriname\", 3.69737195], [\"Sierra Leone\", 4.121733705], [\"Eswatini\", 4.471598727], [\"Guyana\", 5.173759528], [\"Barbados\", 5.209], [\"Togo\", 5.490272413], [\"Fiji\", 5.496250694], [\"Montenegro\", 5.542577965], [\"Maldives\", 5.64217917], [\"Bermuda\", 7.484113], [\"Mauritania\", 7.600656944], [\"Malawi\", 7.666704427], [\"Kosovo\", 7.926133714], [\"Tajikistan\", 8.116626794], [\"Kyrgyz Republic\", 8.454619608], [\"Rwanda\", 10.354417725], [\"Equatorial Guinea\", 11.026774945], [\"Chad\", 11.314951343], [\"Moldova\", 11.96871337], [\"Congo, Rep.\", 12.267392147], [\"Guinea\", 12.296665331], [\"Namibia\", 12.366528259], [\"Nicaragua\", 12.520915291], [\"North Macedonia\", 12.547040499], [\"Niger\", 12.911689659], [\"Brunei Darussalam\", 13.469422959], [\"Bahamas, The\", 13.5788], [\"Armenia\", 13.672802158], [\"Mongolia\", 13.996719329], [\"Mauritius\", 14.048430519], [\"Madagascar\", 14.114631281], [\"Haiti\", 14.332163266], [\"Benin\", 14.390709095], [\"Malta\", 14.989415684], [\"Albania\", 15.27918329], [\"Mozambique\", 15.291448212], [\"Burkina Faso\", 15.99080357], [\"Jamaica\", 16.458071068], [\"Gabon\", 16.874450215], [\"Mali\", 17.279566719], [\"Georgia\", 17.477255546], [\"Lao PDR\", 18.173839147], [\"Botswana\", 18.340480936], [\"Afghanistan\", 19.291104008], [\"Bosnia and Herzegovina\", 20.164193807], [\"Zimbabwe\", 21.4407588], [\"Yemen, Rep.\", 22.581081994], [\"Zambia\", 23.309773923], [\"Senegal\", 23.578084052], [\"Iceland\", 24.188038474], [\"Trinidad and Tobago\", 24.26971481], [\"Papua New Guinea\", 24.829107011], [\"Cyprus\", 24.948935408], [\"Honduras\", 25.095395475], [\"El Salvador\", 27.02264], [\"Cambodia\", 27.089389787], [\"Sudan\", 30.513456085], [\"Nepal\", 30.641380604], [\"Estonia\", 31.471100656], [\"Latvia\", 34.102913582], [\"Uganda\", 35.165157017], [\"Paraguay\", 38.14528894], [\"Bahrain\", 38.574069149], [\"Tunisia\", 38.796687568], [\"Cameroon\", 39.007354359], [\"Bolivia\", 40.895322844], [\"Jordan\", 44.502895862], [\"Azerbaijan\", 48.047647059], [\"Congo, Dem. Rep.\", 50.400746171], [\"Serbia\", 51.475016532], [\"Lebanon\", 51.991634492], [\"Libya\", 52.091152228], [\"Macao SAR, China\", 53.859116536], [\"Slovenia\", 54.174227309], [\"Lithuania\", 54.62741186], [\"Uruguay\", 56.045912953], [\"Uzbekistan\", 57.92128644], [\"Cote d'Ivoire\", 58.53942493], [\"Croatia\", 60.752588976], [\"Costa Rica\", 61.801385049], [\"Belarus\", 63.080457023], [\"Tanzania\", 63.177068175], [\"Panama\", 66.8008], [\"Ghana\", 66.983634224], [\"Bulgaria\", 68.558815112], [\"Luxembourg\", 71.104919108], [\"Myanmar\", 76.085852617], [\"Oman\", 76.331518669], [\"Guatemala\", 76.710355347], [\"Sri Lanka\", 84.008783756], [\"Angola\", 88.815697793], [\"Dominican Republic\", 88.941299734], [\"Kenya\", 95.503088538], [\"Ethiopia\", 95.912590628], [\"Puerto Rico\", 104.9886], [\"Slovak Republic\", 105.07967301], [\"Ecuador\", 107.435665], [\"Morocco\", 119.700325462], [\"Kuwait\", 134.628542747], [\"Ukraine\", 153.781069118], [\"Hungary\", 163.469042868], [\"Algeria\", 171.091289782], [\"Qatar\", 175.837550996], [\"Kazakhstan\", 181.665908556], [\"New Zealand\", 206.928765544], [\"Greece\", 209.852761133], [\"Peru\", 226.84805082], [\"Iraq\", 234.094042939], [\"Portugal\", 238.785085031], [\"Romania\", 250.077444017], [\"Czech Republic\", 250.68050453], [\"Vietnam\", 261.921244843], [\"Finland\", 269.29631018], [\"Pakistan\", 278.221906023], [\"Chile\", 282.318159745], [\"Bangladesh\", 302.571254131], [\"Egypt, Arab Rep.\", 303.092255125], [\"Colombia\", 323.615979419], [\"Denmark\", 350.104327659], [\"South Africa\", 351.431649241], [\"Malaysia\", 364.681367532], [\"Hong Kong SAR, China\", 365.711532817], [\"Singapore\", 372.062527489], [\"Philippines\", 376.795508679], [\"Ireland\", 388.698711348], [\"Israel\", 394.652210296], [\"Norway\", 403.336363636], [\"United Arab Emirates\", 421.142267938], [\"Austria\", 445.075391688], [\"Argentina\", 445.445177459], [\"Nigeria\", 448.120428859], [\"Sweden\", 530.883869005], [\"Belgium\", 533.097455835], [\"Thailand\", 543.548969969], [\"Poland\", 595.858207012], [\"Switzerland\", 703.082435159], [\"Turkey\", 761.425499358], [\"Saudi Arabia\", 792.966838162], [\"Netherlands\", 907.050863145], [\"Indonesia\", 1119.190780753], [\"Mexico\", 1268.87052716], [\"Spain\", 1393.490524518], [\"Australia\", 1396.567014733], [\"Korea, Rep.\", 1646.73921951], [\"Russian Federation\", 1699.876578871], [\"Canada\", 1736.42562952], [\"Brazil\", 1839.758040766], [\"Italy\", 2003.576145498], [\"France\", 2715.518274227], [\"United Kingdom\", 2829.108219166], [\"India\", 2868.929415617], [\"Germany\", 3861.123558039], [\"Japan\", 5081.76954238], [\"China\", 14279.937467431], [\"United States\", 21433.226], [\"Aruba\", null], [\"American Samoa\", null], [\"Cuba\", null], [\"Cayman Islands\", null], [\"Eritrea\", null], [\"Faroe Islands\", null], [\"Micronesia, Fed. Sts.\", null], [\"Gibraltar\", null], [\"Greenland\", null], [\"Guam\", null], [\"Isle of Man\", null], [\"Iran, Islamic Rep.\", null], [\"Liechtenstein\", null], [\"St. Martin (French part)\", null], [\"Monaco\", null], [\"Marshall Islands\", null], [\"Northern Mariana Islands\", null], [\"New Caledonia\", null], [\"Korea, Dem. People's Rep.\", null], [\"West Bank and Gaza\", null], [\"French Polynesia\", null], [\"San Marino\", null], [\"Somalia\", null], [\"South Sudan\", null], [\"Sint Maarten (Dutch part)\", null], [\"Syrian Arab Republic\", null], [\"Turkmenistan\", null], [\"Middle East & North Africa (IDA & IBRD countries)\", null], [\"Venezuela, RB\", null], [\"British Virgin Islands\", null], [\"Virgin Islands (U.S.)\", null]], \"type\": \"choropleth\", \"z\": [-1.3254009535187992, -0.9272964443113431, -0.7107518349878134, -0.5712904389508544, -0.3781619869116846, -0.2904332091069325, -0.2347758718623301, -0.08369425353670154, -0.06943289276819796, -0.029541554272223207, 0.02252917684563996, 0.0666389247000578, 0.0782446942442955, 0.08300199835920301, 0.12692623583976773, 0.20137353029040772, 0.22062134126280192, 0.2313134271195627, 0.26151831111091817, 0.27406857871289864, 0.29706984748830223, 0.30490499930302245, 0.3268375969758541, 0.3464131003156872, 0.37590650169889583, 0.40321443501305176, 0.4789032508355134, 0.4872116617921012, 0.4916120707294141, 0.49886967352129985, 0.5217438754022152, 0.5678931421357635, 0.6150799296593701, 0.6504628238433119, 0.7138062392066445, 0.7167543574326971, 0.7395938935443717, 0.7400665334652158, 0.7437118108584492, 0.7514468732597628, 0.8741403361376955, 0.8808511310734038, 0.8846087203062805, 0.8990613946146885, 0.909375577378632, 0.9270940725058588, 1.0151256816042113, 1.0424485107725572, 1.0536526907245043, 1.0780474665014612, 1.0887522484203336, 1.0897873533339753, 1.092247794246683, 1.0976360773809006, 1.0985412997991768, 1.1109830789483521, 1.1293489905938, 1.1328613917113781, 1.1358575297136766, 1.146026253944313, 1.1476278078701931, 1.1496695374798462, 1.1563117468230584, 1.1580821941074413, 1.1757847035513782, 1.1841001407497664, 1.1844486182243659, 1.203870288464687, 1.2163789333298671, 1.2272296320226868, 1.2375328484492072, 1.2424732363758852, 1.2594466798802804, 1.2634107198352231, 1.2853570825356684, 1.3045808629828437, 1.3312401512083003, 1.353744747720283, 1.3675380614026138, 1.3725085115542097, 1.3836006507323417, 1.3850646730286384, 1.3949611002565752, 1.3970520186449682, 1.399594044060989, 1.431727775530735, 1.4327992222674435, 1.484491400485369, 1.4863083293414705, 1.497911931997057, 1.5327914845212642, 1.5461125609351045, 1.581440908904279, 1.5862954546747716, 1.5887946474408674, 1.5911464956527022, 1.6116736410343808, 1.6483882720139063, 1.681672124693157, 1.7024369661191174, 1.7115964947705007, 1.7159334708226581, 1.7167639638970453, 1.7312592252974195, 1.7337927256618015, 1.737410624978306, 1.7485439479447924, 1.7628381990383468, 1.7674484517678375, 1.7835647901556586, 1.7909982082991298, 1.7998948311668208, 1.800559467960978, 1.824781663575921, 1.8259687066647639, 1.8360633031571658, 1.8518996466870306, 1.881303911677881, 1.8827039030603, 1.884853994542163, 1.9243246972205055, 1.9484897322466601, 1.949103471674415, 1.980017416749413, 1.9818756215747133, 2.0211421445377535, 2.0215187126658636, 2.031148476349405, 2.0780953312431567, 2.1291371449056937, 2.186902875884014, 2.213435519781886, 2.233227900272236, 2.245111626419668, 2.2592734352048724, 2.3158208669280365, 2.3219146878050108, 2.3557350519654694, 2.3693903622158983, 2.378007196448, 2.3980745218755857, 2.3991205601079337, 2.4181707261605703, 2.4302304028751442, 2.444391321523628, 2.450738814467822, 2.4808276653748855, 2.481574839041824, 2.510029957940722, 2.544197479136375, 2.545840870624775, 2.5619135747073853, 2.5631386561537637, 2.5706159319826973, 2.5761057174553628, 2.5896131008180934, 2.596214539465388, 2.6056673785028606, 2.6244288315675397, 2.648433582713088, 2.648794261477007, 2.6513947429277747, 2.7249995294312903, 2.726806609894206, 2.735238677087015, 2.775142925447299, 2.84700624825706, 2.8816274167980716, 2.899255025521394, 2.9576316409342454, 3.0489041240314925, 3.103417309873561, 3.144104019935913, 3.145061780302295, 3.2166248289845734, 3.230417390165858, 3.239656187369936, 3.264760709710695, 3.3018058523545406, 3.4338527297466697, 3.4516495604254303, 3.457719863413256, 3.5867136995043754, 3.7060149659599038, 4.1547263056468, 4.331087543349609, null, null, null, null, null, null, null, null, null, null, null, null, null, null, null, null, null, null, null, null, null, null, null, null, null, null, null, null, null, null, null]}],                        {\"geo\": {\"projection\": {\"type\": \"natural earth\"}, \"showframe\": false}, \"template\": {\"data\": {\"bar\": [{\"error_x\": {\"color\": \"#2a3f5f\"}, \"error_y\": {\"color\": \"#2a3f5f\"}, \"marker\": {\"line\": {\"color\": \"#E5ECF6\", \"width\": 0.5}}, \"type\": \"bar\"}], \"barpolar\": [{\"marker\": {\"line\": {\"color\": \"#E5ECF6\", \"width\": 0.5}}, \"type\": \"barpolar\"}], \"carpet\": [{\"aaxis\": {\"endlinecolor\": \"#2a3f5f\", \"gridcolor\": \"white\", \"linecolor\": \"white\", \"minorgridcolor\": \"white\", \"startlinecolor\": \"#2a3f5f\"}, \"baxis\": {\"endlinecolor\": \"#2a3f5f\", \"gridcolor\": \"white\", \"linecolor\": \"white\", \"minorgridcolor\": \"white\", \"startlinecolor\": \"#2a3f5f\"}, \"type\": \"carpet\"}], \"choropleth\": [{\"colorbar\": {\"outlinewidth\": 0, \"ticks\": \"\"}, \"type\": \"choropleth\"}], \"contour\": [{\"colorbar\": {\"outlinewidth\": 0, \"ticks\": \"\"}, \"colorscale\": [[0.0, \"#0d0887\"], [0.1111111111111111, \"#46039f\"], [0.2222222222222222, \"#7201a8\"], [0.3333333333333333, \"#9c179e\"], [0.4444444444444444, \"#bd3786\"], [0.5555555555555556, \"#d8576b\"], [0.6666666666666666, \"#ed7953\"], [0.7777777777777778, \"#fb9f3a\"], [0.8888888888888888, \"#fdca26\"], [1.0, \"#f0f921\"]], \"type\": \"contour\"}], \"contourcarpet\": [{\"colorbar\": {\"outlinewidth\": 0, \"ticks\": \"\"}, \"type\": \"contourcarpet\"}], \"heatmap\": [{\"colorbar\": {\"outlinewidth\": 0, \"ticks\": \"\"}, \"colorscale\": [[0.0, \"#0d0887\"], [0.1111111111111111, \"#46039f\"], [0.2222222222222222, \"#7201a8\"], [0.3333333333333333, \"#9c179e\"], [0.4444444444444444, \"#bd3786\"], [0.5555555555555556, \"#d8576b\"], [0.6666666666666666, \"#ed7953\"], [0.7777777777777778, \"#fb9f3a\"], [0.8888888888888888, \"#fdca26\"], [1.0, \"#f0f921\"]], \"type\": \"heatmap\"}], \"heatmapgl\": [{\"colorbar\": {\"outlinewidth\": 0, \"ticks\": \"\"}, \"colorscale\": [[0.0, \"#0d0887\"], [0.1111111111111111, \"#46039f\"], [0.2222222222222222, \"#7201a8\"], [0.3333333333333333, \"#9c179e\"], [0.4444444444444444, \"#bd3786\"], [0.5555555555555556, \"#d8576b\"], [0.6666666666666666, \"#ed7953\"], [0.7777777777777778, \"#fb9f3a\"], [0.8888888888888888, \"#fdca26\"], [1.0, \"#f0f921\"]], \"type\": \"heatmapgl\"}], \"histogram\": [{\"marker\": {\"colorbar\": {\"outlinewidth\": 0, \"ticks\": \"\"}}, \"type\": \"histogram\"}], \"histogram2d\": [{\"colorbar\": {\"outlinewidth\": 0, \"ticks\": \"\"}, \"colorscale\": [[0.0, \"#0d0887\"], [0.1111111111111111, \"#46039f\"], [0.2222222222222222, \"#7201a8\"], [0.3333333333333333, \"#9c179e\"], [0.4444444444444444, \"#bd3786\"], [0.5555555555555556, \"#d8576b\"], [0.6666666666666666, \"#ed7953\"], [0.7777777777777778, \"#fb9f3a\"], [0.8888888888888888, \"#fdca26\"], [1.0, \"#f0f921\"]], \"type\": \"histogram2d\"}], \"histogram2dcontour\": [{\"colorbar\": {\"outlinewidth\": 0, \"ticks\": \"\"}, \"colorscale\": [[0.0, \"#0d0887\"], [0.1111111111111111, \"#46039f\"], [0.2222222222222222, \"#7201a8\"], [0.3333333333333333, \"#9c179e\"], [0.4444444444444444, \"#bd3786\"], [0.5555555555555556, \"#d8576b\"], [0.6666666666666666, \"#ed7953\"], [0.7777777777777778, \"#fb9f3a\"], [0.8888888888888888, \"#fdca26\"], [1.0, \"#f0f921\"]], \"type\": \"histogram2dcontour\"}], \"mesh3d\": [{\"colorbar\": {\"outlinewidth\": 0, \"ticks\": \"\"}, \"type\": \"mesh3d\"}], \"parcoords\": [{\"line\": {\"colorbar\": {\"outlinewidth\": 0, \"ticks\": \"\"}}, \"type\": \"parcoords\"}], \"pie\": [{\"automargin\": true, \"type\": \"pie\"}], \"scatter\": [{\"marker\": {\"colorbar\": {\"outlinewidth\": 0, \"ticks\": \"\"}}, \"type\": \"scatter\"}], \"scatter3d\": [{\"line\": {\"colorbar\": {\"outlinewidth\": 0, \"ticks\": \"\"}}, \"marker\": {\"colorbar\": {\"outlinewidth\": 0, \"ticks\": \"\"}}, \"type\": \"scatter3d\"}], \"scattercarpet\": [{\"marker\": {\"colorbar\": {\"outlinewidth\": 0, \"ticks\": \"\"}}, \"type\": \"scattercarpet\"}], \"scattergeo\": [{\"marker\": {\"colorbar\": {\"outlinewidth\": 0, \"ticks\": \"\"}}, \"type\": \"scattergeo\"}], \"scattergl\": [{\"marker\": {\"colorbar\": {\"outlinewidth\": 0, \"ticks\": \"\"}}, \"type\": \"scattergl\"}], \"scattermapbox\": [{\"marker\": {\"colorbar\": {\"outlinewidth\": 0, \"ticks\": \"\"}}, \"type\": \"scattermapbox\"}], \"scatterpolar\": [{\"marker\": {\"colorbar\": {\"outlinewidth\": 0, \"ticks\": \"\"}}, \"type\": \"scatterpolar\"}], \"scatterpolargl\": [{\"marker\": {\"colorbar\": {\"outlinewidth\": 0, \"ticks\": \"\"}}, \"type\": \"scatterpolargl\"}], \"scatterternary\": [{\"marker\": {\"colorbar\": {\"outlinewidth\": 0, \"ticks\": \"\"}}, \"type\": \"scatterternary\"}], \"surface\": [{\"colorbar\": {\"outlinewidth\": 0, \"ticks\": \"\"}, \"colorscale\": [[0.0, \"#0d0887\"], [0.1111111111111111, \"#46039f\"], [0.2222222222222222, \"#7201a8\"], [0.3333333333333333, \"#9c179e\"], [0.4444444444444444, \"#bd3786\"], [0.5555555555555556, \"#d8576b\"], [0.6666666666666666, \"#ed7953\"], [0.7777777777777778, \"#fb9f3a\"], [0.8888888888888888, \"#fdca26\"], [1.0, \"#f0f921\"]], \"type\": \"surface\"}], \"table\": [{\"cells\": {\"fill\": {\"color\": \"#EBF0F8\"}, \"line\": {\"color\": \"white\"}}, \"header\": {\"fill\": {\"color\": \"#C8D4E3\"}, \"line\": {\"color\": \"white\"}}, \"type\": \"table\"}]}, \"layout\": {\"annotationdefaults\": {\"arrowcolor\": \"#2a3f5f\", \"arrowhead\": 0, \"arrowwidth\": 1}, \"autotypenumbers\": \"strict\", \"coloraxis\": {\"colorbar\": {\"outlinewidth\": 0, \"ticks\": \"\"}}, \"colorscale\": {\"diverging\": [[0, \"#8e0152\"], [0.1, \"#c51b7d\"], [0.2, \"#de77ae\"], [0.3, \"#f1b6da\"], [0.4, \"#fde0ef\"], [0.5, \"#f7f7f7\"], [0.6, \"#e6f5d0\"], [0.7, \"#b8e186\"], [0.8, \"#7fbc41\"], [0.9, \"#4d9221\"], [1, \"#276419\"]], \"sequential\": [[0.0, \"#0d0887\"], [0.1111111111111111, \"#46039f\"], [0.2222222222222222, \"#7201a8\"], [0.3333333333333333, \"#9c179e\"], [0.4444444444444444, \"#bd3786\"], [0.5555555555555556, \"#d8576b\"], [0.6666666666666666, \"#ed7953\"], [0.7777777777777778, \"#fb9f3a\"], [0.8888888888888888, \"#fdca26\"], [1.0, \"#f0f921\"]], \"sequentialminus\": [[0.0, \"#0d0887\"], [0.1111111111111111, \"#46039f\"], [0.2222222222222222, \"#7201a8\"], [0.3333333333333333, \"#9c179e\"], [0.4444444444444444, \"#bd3786\"], [0.5555555555555556, \"#d8576b\"], [0.6666666666666666, \"#ed7953\"], [0.7777777777777778, \"#fb9f3a\"], [0.8888888888888888, \"#fdca26\"], [1.0, \"#f0f921\"]]}, \"colorway\": [\"#636efa\", \"#EF553B\", \"#00cc96\", \"#ab63fa\", \"#FFA15A\", \"#19d3f3\", \"#FF6692\", \"#B6E880\", \"#FF97FF\", \"#FECB52\"], \"font\": {\"color\": \"#2a3f5f\"}, \"geo\": {\"bgcolor\": \"white\", \"lakecolor\": \"white\", \"landcolor\": \"#E5ECF6\", \"showlakes\": true, \"showland\": true, \"subunitcolor\": \"white\"}, \"hoverlabel\": {\"align\": \"left\"}, \"hovermode\": \"closest\", \"mapbox\": {\"style\": \"light\"}, \"paper_bgcolor\": \"white\", \"plot_bgcolor\": \"#E5ECF6\", \"polar\": {\"angularaxis\": {\"gridcolor\": \"white\", \"linecolor\": \"white\", \"ticks\": \"\"}, \"bgcolor\": \"#E5ECF6\", \"radialaxis\": {\"gridcolor\": \"white\", \"linecolor\": \"white\", \"ticks\": \"\"}}, \"scene\": {\"xaxis\": {\"backgroundcolor\": \"#E5ECF6\", \"gridcolor\": \"white\", \"gridwidth\": 2, \"linecolor\": \"white\", \"showbackground\": true, \"ticks\": \"\", \"zerolinecolor\": \"white\"}, \"yaxis\": {\"backgroundcolor\": \"#E5ECF6\", \"gridcolor\": \"white\", \"gridwidth\": 2, \"linecolor\": \"white\", \"showbackground\": true, \"ticks\": \"\", \"zerolinecolor\": \"white\"}, \"zaxis\": {\"backgroundcolor\": \"#E5ECF6\", \"gridcolor\": \"white\", \"gridwidth\": 2, \"linecolor\": \"white\", \"showbackground\": true, \"ticks\": \"\", \"zerolinecolor\": \"white\"}}, \"shapedefaults\": {\"line\": {\"color\": \"#2a3f5f\"}}, \"ternary\": {\"aaxis\": {\"gridcolor\": \"white\", \"linecolor\": \"white\", \"ticks\": \"\"}, \"baxis\": {\"gridcolor\": \"white\", \"linecolor\": \"white\", \"ticks\": \"\"}, \"bgcolor\": \"#E5ECF6\", \"caxis\": {\"gridcolor\": \"white\", \"linecolor\": \"white\", \"ticks\": \"\"}}, \"title\": {\"x\": 0.05}, \"xaxis\": {\"automargin\": true, \"gridcolor\": \"white\", \"linecolor\": \"white\", \"ticks\": \"\", \"title\": {\"standoff\": 15}, \"zerolinecolor\": \"white\", \"zerolinewidth\": 2}, \"yaxis\": {\"automargin\": true, \"gridcolor\": \"white\", \"linecolor\": \"white\", \"ticks\": \"\", \"title\": {\"standoff\": 15}, \"zerolinecolor\": \"white\", \"zerolinewidth\": 2}}}, \"title\": {\"text\": \"Current World GDP\"}},                        {\"responsive\": true}                    ).then(function(){\n",
       "                            \n",
       "var gd = document.getElementById('cfbdae8d-8f92-4faa-8744-c8a896554733');\n",
       "var x = new MutationObserver(function (mutations, observer) {{\n",
       "        var display = window.getComputedStyle(gd).display;\n",
       "        if (!display || display === 'none') {{\n",
       "            console.log([gd, 'removed!']);\n",
       "            Plotly.purge(gd);\n",
       "            observer.disconnect();\n",
       "        }}\n",
       "}});\n",
       "\n",
       "// Listen for the removal of the full notebook cells\n",
       "var notebookContainer = gd.closest('#notebook-container');\n",
       "if (notebookContainer) {{\n",
       "    x.observe(notebookContainer, {childList: true});\n",
       "}}\n",
       "\n",
       "// Listen for the clearing of the current output cell\n",
       "var outputEl = gd.closest('.output');\n",
       "if (outputEl) {{\n",
       "    x.observe(outputEl, {childList: true});\n",
       "}}\n",
       "\n",
       "                        })                };                });            </script>        </div>"
      ]
     },
     "metadata": {},
     "output_type": "display_data"
    }
   ],
   "source": [
    "choro.show()"
   ]
  },
  {
   "cell_type": "code",
   "execution_count": null,
   "id": "a02a6883",
   "metadata": {},
   "outputs": [],
   "source": []
  }
 ],
 "metadata": {
  "kernelspec": {
   "display_name": "Python 3",
   "language": "python",
   "name": "python3"
  },
  "language_info": {
   "codemirror_mode": {
    "name": "ipython",
    "version": 3
   },
   "file_extension": ".py",
   "mimetype": "text/x-python",
   "name": "python",
   "nbconvert_exporter": "python",
   "pygments_lexer": "ipython3",
   "version": "3.9.5"
  }
 },
 "nbformat": 4,
 "nbformat_minor": 5
}
